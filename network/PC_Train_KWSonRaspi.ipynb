{
 "cells": [
  {
   "cell_type": "markdown",
   "metadata": {
    "id": "fluF3_oOgkWF"
   },
   "source": [
    "##### Copyright 2020 The TensorFlow Authors."
   ]
  },
  {
   "cell_type": "code",
   "execution_count": 1,
   "metadata": {
    "ExecuteTime": {
     "end_time": "2022-05-04T18:32:39.256195Z",
     "start_time": "2022-05-04T18:32:39.247195Z"
    },
    "cellView": "form",
    "execution": {
     "iopub.execute_input": "2022-04-27T01:27:51.618947Z",
     "iopub.status.busy": "2022-04-27T01:27:51.618495Z",
     "iopub.status.idle": "2022-04-27T01:27:51.622135Z",
     "shell.execute_reply": "2022-04-27T01:27:51.621655Z"
    },
    "id": "AJs7HHFmg1M9"
   },
   "outputs": [],
   "source": [
    "#@title Licensed under the Apache License, Version 2.0 (the \"License\");\n",
    "# you may not use this file except in compliance with the License.\n",
    "# You may obtain a copy of the License at\n",
    "#\n",
    "# https://www.apache.org/licenses/LICENSE-2.0\n",
    "#\n",
    "# Unless required by applicable law or agreed to in writing, software\n",
    "# distributed under the License is distributed on an \"AS IS\" BASIS,\n",
    "# WITHOUT WARRANTIES OR CONDITIONS OF ANY KIND, either express or implied.\n",
    "# See the License for the specific language governing permissions and\n",
    "# limitations under the License."
   ]
  },
  {
   "cell_type": "markdown",
   "metadata": {
    "id": "jYysdyb-CaWM"
   },
   "source": [
    "# Simple audio recognition: Recognizing keywords"
   ]
  },
  {
   "cell_type": "markdown",
   "metadata": {
    "id": "CNbqmZy0gbyE"
   },
   "source": [
    "<table class=\"tfo-notebook-buttons\" align=\"left\">\n",
    "  <td>\n",
    "    <a target=\"_blank\" href=\"https://www.tensorflow.org/tutorials/audio/simple_audio\">\n",
    "    <img src=\"https://www.tensorflow.org/images/tf_logo_32px.png\" />\n",
    "    View on TensorFlow.org</a>\n",
    "  </td>\n",
    "  <td>\n",
    "    <a target=\"_blank\" href=\"https://colab.research.google.com/github/tensorflow/docs/blob/master/site/en/tutorials/audio/simple_audio.ipynb\">\n",
    "    <img src=\"https://www.tensorflow.org/images/colab_logo_32px.png\" />\n",
    "    Run in Google Colab</a>\n",
    "  </td>\n",
    "  <td>\n",
    "    <a target=\"_blank\" href=\"https://github.com/tensorflow/docs/blob/master/site/en/tutorials/audio/simple_audio.ipynb\">\n",
    "    <img src=\"https://www.tensorflow.org/images/GitHub-Mark-32px.png\" />\n",
    "    View source on GitHub</a>\n",
    "  </td>\n",
    "  <td>\n",
    "    <a href=\"https://storage.googleapis.com/tensorflow_docs/docs/site/en/tutorials/audio/simple_audio.ipynb\"><img src=\"https://www.tensorflow.org/images/download_logo_32px.png\" />Download notebook</a>\n",
    "  </td>\n",
    "</table>"
   ]
  },
  {
   "cell_type": "markdown",
   "metadata": {
    "id": "SPfDNFlb66XF"
   },
   "source": [
    "This tutorial demonstrates how to preprocess audio files in the WAV format and build and train a basic <a href=\"https://en.wikipedia.org/wiki/Speech_recognition\" class=\"external\">automatic speech recognition</a> (ASR) model for recognizing ten different words. You will use a portion of the [Speech Commands dataset](https://www.tensorflow.org/datasets/catalog/speech_commands) (<a href=\"https://arxiv.org/abs/1804.03209\" class=\"external\">Warden, 2018</a>), which contains short (one-second or less) audio clips of commands, such as \"down\", \"go\", \"left\", \"no\", \"right\", \"stop\", \"up\" and \"yes\".\n",
    "\n",
    "Real-world speech and audio recognition <a href=\"https://ai.googleblog.com/search/label/Speech%20Recognition\" class=\"external\">systems</a> are complex. But, like [image classification with the MNIST dataset](../quickstart/beginner.ipynb), this tutorial should give you a basic understanding of the techniques involved."
   ]
  },
  {
   "cell_type": "markdown",
   "metadata": {
    "id": "Go9C3uLL8Izc"
   },
   "source": [
    "## Setup\n",
    "\n",
    "Import necessary modules and dependencies. Note that you'll be using <a href=\"https://seaborn.pydata.org/\" class=\"external\">seaborn</a> for visualization in this tutorial."
   ]
  },
  {
   "cell_type": "code",
   "execution_count": 2,
   "metadata": {
    "ExecuteTime": {
     "end_time": "2022-05-04T18:32:41.054013Z",
     "start_time": "2022-05-04T18:32:39.257195Z"
    },
    "execution": {
     "iopub.execute_input": "2022-04-27T01:27:51.625191Z",
     "iopub.status.busy": "2022-04-27T01:27:51.624860Z",
     "iopub.status.idle": "2022-04-27T01:27:54.694554Z",
     "shell.execute_reply": "2022-04-27T01:27:54.693942Z"
    },
    "id": "dzLKpmZICaWN"
   },
   "outputs": [],
   "source": [
    "import os\n",
    "import pathlib\n",
    "\n",
    "import matplotlib.pyplot as plt\n",
    "import numpy as np\n",
    "import seaborn as sns\n",
    "import tensorflow as tf\n",
    "\n",
    "from tensorflow.keras import layers\n",
    "from tensorflow.keras import models\n",
    "from IPython import display\n",
    "\n",
    "# Set the seed value for experiment reproducibility.\n",
    "seed = 42\n",
    "tf.random.set_seed(seed)\n",
    "np.random.seed(seed)"
   ]
  },
  {
   "cell_type": "markdown",
   "metadata": {
    "id": "yR0EdgrLCaWR"
   },
   "source": [
    "## Import the mini Speech Commands dataset\n",
    "\n",
    "To save time with data loading, you will be working with a smaller version of the Speech Commands dataset. The [original dataset](https://www.tensorflow.org/datasets/catalog/speech_commands) consists of over 105,000 audio files in the <a href=\"https://www.aelius.com/njh/wavemetatools/doc/riffmci.pdf\" class=\"external\">WAV (Waveform) audio file format</a> of people saying 35 different words. This data was collected by Google and released under a CC BY license.\n",
    "\n",
    "Download and extract the `mini_speech_commands.zip` file containing the smaller Speech Commands datasets with `tf.keras.utils.get_file`:"
   ]
  },
  {
   "cell_type": "code",
   "execution_count": 3,
   "metadata": {
    "ExecuteTime": {
     "end_time": "2022-05-04T18:32:41.070067Z",
     "start_time": "2022-05-04T18:32:41.055014Z"
    },
    "execution": {
     "iopub.execute_input": "2022-04-27T01:27:54.698944Z",
     "iopub.status.busy": "2022-04-27T01:27:54.698468Z",
     "iopub.status.idle": "2022-04-27T01:28:03.909538Z",
     "shell.execute_reply": "2022-04-27T01:28:03.908971Z"
    },
    "id": "2-rayb7-3Y0I"
   },
   "outputs": [],
   "source": [
    "DATASET_PATH = 'data/mini_speech_commands'\n",
    "\n",
    "data_dir = pathlib.Path(DATASET_PATH)\n",
    "if not data_dir.exists():\n",
    "  tf.keras.utils.get_file(\n",
    "      'mini_speech_commands.zip',\n",
    "      origin=\"http://storage.googleapis.com/download.tensorflow.org/data/mini_speech_commands.zip\",\n",
    "      extract=True,\n",
    "      cache_dir='.', cache_subdir='data')"
   ]
  },
  {
   "cell_type": "markdown",
   "metadata": {
    "id": "BgvFq3uYiS5G"
   },
   "source": [
    "The dataset's audio clips are stored in eight folders corresponding to each speech command: `no`, `yes`, `down`, `go`, `left`, `up`, `right`, and `stop`:"
   ]
  },
  {
   "cell_type": "code",
   "execution_count": 4,
   "metadata": {
    "ExecuteTime": {
     "end_time": "2022-05-04T18:32:41.086030Z",
     "start_time": "2022-05-04T18:32:41.071070Z"
    },
    "execution": {
     "iopub.execute_input": "2022-04-27T01:28:03.913320Z",
     "iopub.status.busy": "2022-04-27T01:28:03.912830Z",
     "iopub.status.idle": "2022-04-27T01:28:03.917225Z",
     "shell.execute_reply": "2022-04-27T01:28:03.916646Z"
    },
    "id": "70IBxSKxA1N9"
   },
   "outputs": [
    {
     "name": "stdout",
     "output_type": "stream",
     "text": [
      "Commands: ['down' 'go' 'left' 'no' 'right' 'stop' 'up' 'yes']\n"
     ]
    }
   ],
   "source": [
    "commands = np.array(tf.io.gfile.listdir(str(data_dir)))\n",
    "commands = commands[commands != 'README.md']\n",
    "print('Commands:', commands)"
   ]
  },
  {
   "cell_type": "markdown",
   "metadata": {
    "id": "aMvdU9SY8WXN"
   },
   "source": [
    "Extract the audio clips into a list called `filenames`, and shuffle it:"
   ]
  },
  {
   "cell_type": "code",
   "execution_count": 5,
   "metadata": {
    "ExecuteTime": {
     "end_time": "2022-05-04T18:32:41.659105Z",
     "start_time": "2022-05-04T18:32:41.087031Z"
    },
    "execution": {
     "iopub.execute_input": "2022-04-27T01:28:03.920164Z",
     "iopub.status.busy": "2022-04-27T01:28:03.919736Z",
     "iopub.status.idle": "2022-04-27T01:28:05.472082Z",
     "shell.execute_reply": "2022-04-27T01:28:05.471422Z"
    },
    "id": "hlX685l1wD9k"
   },
   "outputs": [
    {
     "name": "stdout",
     "output_type": "stream",
     "text": [
      "Number of total examples: 8000\n",
      "Number of examples per label: 1000\n",
      "Example file tensor: tf.Tensor(b'data\\\\mini_speech_commands\\\\stop\\\\5fadb538_nohash_1.wav', shape=(), dtype=string)\n"
     ]
    }
   ],
   "source": [
    "filenames = tf.io.gfile.glob(str(data_dir) + '/*/*')\n",
    "filenames = tf.random.shuffle(filenames)\n",
    "num_samples = len(filenames)\n",
    "print('Number of total examples:', num_samples)\n",
    "print('Number of examples per label:',\n",
    "      len(tf.io.gfile.listdir(str(data_dir/commands[0]))))\n",
    "print('Example file tensor:', filenames[0])"
   ]
  },
  {
   "cell_type": "markdown",
   "metadata": {
    "id": "9vK3ymy23MCP"
   },
   "source": [
    "Split `filenames` into training, validation and test sets using a 80:10:10 ratio, respectively:"
   ]
  },
  {
   "cell_type": "code",
   "execution_count": 6,
   "metadata": {
    "ExecuteTime": {
     "end_time": "2022-05-04T18:32:41.674500Z",
     "start_time": "2022-05-04T18:32:41.660105Z"
    },
    "execution": {
     "iopub.execute_input": "2022-04-27T01:28:05.476809Z",
     "iopub.status.busy": "2022-04-27T01:28:05.476591Z",
     "iopub.status.idle": "2022-04-27T01:28:05.482302Z",
     "shell.execute_reply": "2022-04-27T01:28:05.481736Z"
    },
    "id": "Cv_wts-l3KgD"
   },
   "outputs": [
    {
     "name": "stdout",
     "output_type": "stream",
     "text": [
      "Training set size 6400\n",
      "Validation set size 800\n",
      "Test set size 800\n"
     ]
    }
   ],
   "source": [
    "train_files = filenames[:6400]\n",
    "val_files = filenames[6400: 6400 + 800]\n",
    "test_files = filenames[-800:]\n",
    "\n",
    "print('Training set size', len(train_files))\n",
    "print('Validation set size', len(val_files))\n",
    "print('Test set size', len(test_files))"
   ]
  },
  {
   "cell_type": "markdown",
   "metadata": {
    "id": "g2Cj9FyvfweD"
   },
   "source": [
    "## Read the audio files and their labels"
   ]
  },
  {
   "cell_type": "markdown",
   "metadata": {
    "id": "j1zjcWteOcBy"
   },
   "source": [
    "In this section you will preprocess the dataset, creating decoded tensors for the waveforms and the corresponding labels. Note that:\n",
    "\n",
    "- Each WAV file contains time-series data with a set number of samples per second.\n",
    "- Each sample represents the <a href=\"https://en.wikipedia.org/wiki/Amplitude\" class=\"external\">amplitude</a> of the audio signal at that specific time.\n",
    "- In a <a href=\"https://en.wikipedia.org/wiki/Audio_bit_depth\" class=\"external\">16-bit</a> system, like the WAV files in the mini Speech Commands dataset, the amplitude values range from -32,768 to 32,767.\n",
    "- The <a href=\"https://en.wikipedia.org/wiki/Sampling_(signal_processing)#Audio_sampling\" class=\"external\">sample rate</a> for this dataset is 16kHz.\n",
    "\n",
    "The shape of the tensor returned by `tf.audio.decode_wav` is `[samples, channels]`, where `channels` is `1` for mono or `2` for stereo. The mini Speech Commands dataset only contains mono recordings. "
   ]
  },
  {
   "cell_type": "code",
   "execution_count": 7,
   "metadata": {
    "ExecuteTime": {
     "end_time": "2022-05-04T18:32:41.690011Z",
     "start_time": "2022-05-04T18:32:41.675009Z"
    },
    "execution": {
     "iopub.execute_input": "2022-04-27T01:28:05.485399Z",
     "iopub.status.busy": "2022-04-27T01:28:05.485205Z",
     "iopub.status.idle": "2022-04-27T01:28:05.491865Z",
     "shell.execute_reply": "2022-04-27T01:28:05.491309Z"
    },
    "id": "d16bb8416f90"
   },
   "outputs": [
    {
     "data": {
      "text/plain": [
       "TensorShape([13654, 1])"
      ]
     },
     "execution_count": 7,
     "metadata": {},
     "output_type": "execute_result"
    }
   ],
   "source": [
    "test_file = tf.io.read_file(DATASET_PATH+'/down/0a9f9af7_nohash_0.wav')\n",
    "test_audio, _ = tf.audio.decode_wav(contents=test_file)\n",
    "test_audio.shape"
   ]
  },
  {
   "cell_type": "markdown",
   "metadata": {
    "id": "e6bb8defd2ef"
   },
   "source": [
    "Now, let's define a function that preprocesses the dataset's raw WAV audio files into audio tensors:"
   ]
  },
  {
   "cell_type": "code",
   "execution_count": 8,
   "metadata": {
    "ExecuteTime": {
     "end_time": "2022-05-04T18:32:41.704989Z",
     "start_time": "2022-05-04T18:32:41.691012Z"
    },
    "execution": {
     "iopub.execute_input": "2022-04-27T01:28:05.494664Z",
     "iopub.status.busy": "2022-04-27T01:28:05.494462Z",
     "iopub.status.idle": "2022-04-27T01:28:05.497918Z",
     "shell.execute_reply": "2022-04-27T01:28:05.497350Z"
    },
    "id": "9PjJ2iXYwftD"
   },
   "outputs": [],
   "source": [
    "def decode_audio(audio_binary):\n",
    "  # Decode WAV-encoded audio files to `float32` tensors, normalized\n",
    "  # to the [-1.0, 1.0] range. Return `float32` audio and a sample rate.\n",
    "  audio, _ = tf.audio.decode_wav(contents=audio_binary)\n",
    "  # Since all the data is single channel (mono), drop the `channels`\n",
    "  # axis from the array.\n",
    "  return tf.squeeze(audio, axis=-1)"
   ]
  },
  {
   "cell_type": "markdown",
   "metadata": {
    "id": "GPQseZElOjVN"
   },
   "source": [
    "Define a function that creates labels using the parent directories for each file:\n",
    "\n",
    "- Split the file paths into `tf.RaggedTensor`s (tensors with ragged dimensions—with slices that may have different lengths)."
   ]
  },
  {
   "cell_type": "code",
   "execution_count": 9,
   "metadata": {
    "ExecuteTime": {
     "end_time": "2022-05-04T18:32:41.720989Z",
     "start_time": "2022-05-04T18:32:41.704989Z"
    },
    "execution": {
     "iopub.execute_input": "2022-04-27T01:28:05.500592Z",
     "iopub.status.busy": "2022-04-27T01:28:05.500389Z",
     "iopub.status.idle": "2022-04-27T01:28:05.503893Z",
     "shell.execute_reply": "2022-04-27T01:28:05.503367Z"
    },
    "id": "8VTtX1nr3YT-"
   },
   "outputs": [],
   "source": [
    "def get_label(file_path):\n",
    "  parts = tf.strings.split(\n",
    "      input=file_path,\n",
    "      sep=os.path.sep)\n",
    "  # Note: You'll use indexing here instead of tuple unpacking to enable this\n",
    "  # to work in a TensorFlow graph.\n",
    "  return parts[-2]"
   ]
  },
  {
   "cell_type": "markdown",
   "metadata": {
    "id": "E8Y9w_5MOsr-"
   },
   "source": [
    "Define another helper function—`get_waveform_and_label`—that puts it all together:\n",
    "\n",
    "- The input is the WAV audio filename.\n",
    "- The output is a tuple containing the audio and label tensors ready for supervised learning."
   ]
  },
  {
   "cell_type": "code",
   "execution_count": 10,
   "metadata": {
    "ExecuteTime": {
     "end_time": "2022-05-04T18:32:41.736209Z",
     "start_time": "2022-05-04T18:32:41.721989Z"
    },
    "execution": {
     "iopub.execute_input": "2022-04-27T01:28:05.506699Z",
     "iopub.status.busy": "2022-04-27T01:28:05.506496Z",
     "iopub.status.idle": "2022-04-27T01:28:05.510175Z",
     "shell.execute_reply": "2022-04-27T01:28:05.509534Z"
    },
    "id": "WdgUD5T93NyT"
   },
   "outputs": [],
   "source": [
    "def get_waveform_and_label(file_path):\n",
    "  label = get_label(file_path)\n",
    "  audio_binary = tf.io.read_file(file_path)\n",
    "  waveform = decode_audio(audio_binary)\n",
    "  return waveform, label"
   ]
  },
  {
   "cell_type": "markdown",
   "metadata": {
    "id": "nvN8W_dDjYjc"
   },
   "source": [
    "Build the training set to extract the audio-label pairs:\n",
    "\n",
    "- Create a `tf.data.Dataset` with `Dataset.from_tensor_slices` and `Dataset.map`, using `get_waveform_and_label` defined earlier.\n",
    "\n",
    "You'll build the validation and test sets using a similar procedure later on."
   ]
  },
  {
   "cell_type": "code",
   "execution_count": 11,
   "metadata": {
    "ExecuteTime": {
     "end_time": "2022-05-04T18:32:42.055317Z",
     "start_time": "2022-05-04T18:32:41.736209Z"
    },
    "execution": {
     "iopub.execute_input": "2022-04-27T01:28:05.512862Z",
     "iopub.status.busy": "2022-04-27T01:28:05.512670Z",
     "iopub.status.idle": "2022-04-27T01:28:05.639695Z",
     "shell.execute_reply": "2022-04-27T01:28:05.639130Z"
    },
    "id": "0SQl8yXl3kNP"
   },
   "outputs": [],
   "source": [
    "AUTOTUNE = tf.data.AUTOTUNE\n",
    "\n",
    "files_ds = tf.data.Dataset.from_tensor_slices(train_files)\n",
    "\n",
    "waveform_ds = files_ds.map(\n",
    "    map_func=get_waveform_and_label,\n",
    "    num_parallel_calls=AUTOTUNE)"
   ]
  },
  {
   "cell_type": "markdown",
   "metadata": {
    "id": "voxGEwvuh2L7"
   },
   "source": [
    "Let's plot a few audio waveforms:"
   ]
  },
  {
   "cell_type": "code",
   "execution_count": 12,
   "metadata": {
    "ExecuteTime": {
     "end_time": "2022-05-04T18:32:42.433972Z",
     "start_time": "2022-05-04T18:32:42.056318Z"
    },
    "execution": {
     "iopub.execute_input": "2022-04-27T01:28:05.643085Z",
     "iopub.status.busy": "2022-04-27T01:28:05.642871Z",
     "iopub.status.idle": "2022-04-27T01:28:06.476328Z",
     "shell.execute_reply": "2022-04-27T01:28:06.475803Z"
    },
    "id": "8yuX6Nqzf6wT"
   },
   "outputs": [
    {
     "data": {
      "image/png": "[encoded data removed]",
      "text/plain": [
       "<Figure size 720x864 with 9 Axes>"
      ]
     },
     "metadata": {
      "needs_background": "light"
     },
     "output_type": "display_data"
    }
   ],
   "source": [
    "rows = 3\n",
    "cols = 3\n",
    "n = rows * cols\n",
    "fig, axes = plt.subplots(rows, cols, figsize=(10, 12))\n",
    "\n",
    "for i, (audio, label) in enumerate(waveform_ds.take(n)):\n",
    "  r = i // cols\n",
    "  c = i % cols\n",
    "  ax = axes[r][c]\n",
    "  ax.plot(audio.numpy())\n",
    "  ax.set_yticks(np.arange(-1.2, 1.2, 0.2))\n",
    "  label = label.numpy().decode('utf-8')\n",
    "  ax.set_title(label)\n",
    "\n",
    "plt.show()"
   ]
  },
  {
   "cell_type": "markdown",
   "metadata": {
    "id": "EWXPphxm0B4m"
   },
   "source": [
    "## Convert waveforms to spectrograms\n",
    "\n",
    "The waveforms in the dataset are represented in the time domain. Next, you'll transform the waveforms from the time-domain signals into the time-frequency-domain signals by computing the <a href=\"https://en.wikipedia.org/wiki/Short-time_Fourier_transform\" class=\"external\">short-time Fourier transform (STFT)</a> to convert the waveforms to as <a href=\"https://en.wikipedia.org/wiki/Spectrogram\" clas=\"external\">spectrograms</a>, which show frequency changes over time and can be represented as 2D images. You will feed the spectrogram images into your neural network to train the model.\n",
    "\n",
    "A Fourier transform (`tf.signal.fft`) converts a signal to its component frequencies, but loses all time information. In comparison, STFT (`tf.signal.stft`) splits the signal into windows of time and runs a Fourier transform on each window, preserving some time information, and returning a 2D tensor that you can run standard convolutions on.\n",
    "\n",
    "Create a utility function for converting waveforms to spectrograms:\n",
    "\n",
    "- The waveforms need to be of the same length, so that when you convert them to spectrograms, the results have similar dimensions. This can be done by simply zero-padding the audio clips that are shorter than one second (using `tf.zeros`).\n",
    "- When calling `tf.signal.stft`, choose the `frame_length` and `frame_step` parameters such that the generated spectrogram \"image\" is almost square. For more information on the STFT parameters choice, refer to <a href=\"https://www.coursera.org/lecture/audio-signal-processing/stft-2-tjEQe\" class=\"external\">this Coursera video</a> on audio signal processing and STFT.\n",
    "- The STFT produces an array of complex numbers representing magnitude and phase. However, in this tutorial you'll only use the magnitude, which you can derive by applying `tf.abs` on the output of `tf.signal.stft`."
   ]
  },
  {
   "cell_type": "code",
   "execution_count": 13,
   "metadata": {
    "ExecuteTime": {
     "end_time": "2022-05-04T18:32:42.465971Z",
     "start_time": "2022-05-04T18:32:42.434972Z"
    },
    "execution": {
     "iopub.execute_input": "2022-04-27T01:28:06.480402Z",
     "iopub.status.busy": "2022-04-27T01:28:06.479953Z",
     "iopub.status.idle": "2022-04-27T01:28:06.485110Z",
     "shell.execute_reply": "2022-04-27T01:28:06.484575Z"
    },
    "id": "_4CK75DHz_OR"
   },
   "outputs": [],
   "source": [
    "import tensorflow_io as tfio\n",
    "\n",
    "# 将一段频谱图转成梅尔频谱\n",
    "def get_melcepstrum(spectrogram):\n",
    "    # (124, 129, 1)\n",
    "    melspectrogram = tfio.audio.melscale(\n",
    "    spectrogram, rate=16000, mels=40, fmin=0, fmax=8000)\n",
    "    melspectrogram = melspectrogram[..., tf.newaxis]# 新增一个aixs\n",
    "    return melspectrogram\n",
    "\n",
    "def get_spectrogram(waveform):\n",
    "  # Zero-padding for an audio waveform with less than 16,000 samples.\n",
    "  input_len = 16000\n",
    "  waveform = waveform[:input_len]\n",
    "  zero_padding = tf.zeros(\n",
    "      [16000] - tf.shape(waveform),\n",
    "      dtype=tf.float32)\n",
    "  # Cast the waveform tensors' dtype to float32.\n",
    "  waveform = tf.cast(waveform, dtype=tf.float32)\n",
    "  # Concatenate the waveform with `zero_padding`, which ensures all audio\n",
    "  # clips are of the same length.\n",
    "  equal_length = tf.concat([waveform, zero_padding], 0)\n",
    "  # Convert the waveform to a spectrogram via a STFT.\n",
    "  spectrogram = tf.signal.stft(\n",
    "      equal_length, frame_length=1024, frame_step=512)\n",
    "  # Obtain the magnitude of the STFT.\n",
    "  spectrogram = tf.abs(spectrogram)\n",
    "  # Add a `channels` dimension, so that the spectrogram can be used\n",
    "  # as image-like input data with convolution layers (which expect\n",
    "  # shape (`batch_size`, `height`, `width`, `channels`).\n",
    "  # Batch Size，样本数（时间序列长度/frame_step=125），频率点数(样本窗口/2)，通道\n",
    "  spectrogram = spectrogram[..., tf.newaxis]\n",
    "  #melspectrogram = melspectrogram[..., tf.newaxis]\n",
    "  return spectrogram"
   ]
  },
  {
   "cell_type": "markdown",
   "metadata": {
    "id": "5rdPiPYJphs2"
   },
   "source": [
    "Next, start exploring the data. Print the shapes of one example's tensorized waveform and the corresponding spectrogram, and play the original audio:"
   ]
  },
  {
   "cell_type": "code",
   "execution_count": 14,
   "metadata": {
    "ExecuteTime": {
     "end_time": "2022-05-04T18:32:43.225195Z",
     "start_time": "2022-05-04T18:32:42.466972Z"
    },
    "execution": {
     "iopub.execute_input": "2022-04-27T01:28:06.488117Z",
     "iopub.status.busy": "2022-04-27T01:28:06.487678Z",
     "iopub.status.idle": "2022-04-27T01:28:06.779994Z",
     "shell.execute_reply": "2022-04-27T01:28:06.779430Z"
    },
    "id": "4Mu6Y7Yz3C-V"
   },
   "outputs": [
    {
     "name": "stdout",
     "output_type": "stream",
     "text": [
      "Label: stop\n",
      "Waveform shape: (16000,)\n",
      "Spectrogram shape: (30, 513, 1)\n",
      "melspectrogram shape: (30, 40, 1)\n",
      "Audio playback\n"
     ]
    },
    {
     "data": {
      "text/html": [
       "\n",
       "                <audio  controls=\"controls\" >\n",
       "                    <source src=\"data:audio/wav;base64,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\" type=\"audio/wav\" />\n",
       "                    Your browser does not support the audio element.\n",
       "                </audio>\n",
       "              "
      ],
      "text/plain": [
       "<IPython.lib.display.Audio object>"
      ]
     },
     "metadata": {},
     "output_type": "display_data"
    },
    {
     "data": {
      "image/png": "[encoded data removed]",
      "text/plain": [
       "<Figure size 432x288 with 1 Axes>"
      ]
     },
     "metadata": {
      "needs_background": "light"
     },
     "output_type": "display_data"
    },
    {
     "data": {
      "image/png": "[encoded data removed]",
      "text/plain": [
       "<Figure size 432x288 with 1 Axes>"
      ]
     },
     "metadata": {
      "needs_background": "light"
     },
     "output_type": "display_data"
    }
   ],
   "source": [
    "for waveform, label in waveform_ds.take(1):\n",
    "  label = label.numpy().decode('utf-8')\n",
    "  spectrogram = get_spectrogram(waveform)\n",
    "\n",
    "# 获取梅尔频谱,把之前加在频谱图最后的通道维度删除\n",
    "melspectrogram = get_melcepstrum(tf.squeeze(spectrogram, axis=-1))\n",
    "plt.figure()\n",
    "plt.imshow(tf.math.log(spectrogram).numpy())\n",
    "plt.figure()\n",
    "# 把之前加在梅尔频谱最后的通道维度删除\n",
    "plt.imshow(tf.math.log(tf.squeeze(melspectrogram, axis=-1)).numpy())\n",
    "\n",
    "print('Label:', label)\n",
    "print('Waveform shape:', waveform.shape)\n",
    "print('Spectrogram shape:', spectrogram.shape)\n",
    "print('melspectrogram shape:', melspectrogram.shape)\n",
    "print('Audio playback')\n",
    "display.display(display.Audio(waveform, rate=16000))"
   ]
  },
  {
   "cell_type": "markdown",
   "metadata": {
    "id": "xnSuqyxJ1isF"
   },
   "source": [
    "Now, define a function for displaying a spectrogram:"
   ]
  },
  {
   "cell_type": "code",
   "execution_count": 15,
   "metadata": {
    "ExecuteTime": {
     "end_time": "2022-05-04T18:32:43.241194Z",
     "start_time": "2022-05-04T18:32:43.226195Z"
    },
    "execution": {
     "iopub.execute_input": "2022-04-27T01:28:06.783666Z",
     "iopub.status.busy": "2022-04-27T01:28:06.782998Z",
     "iopub.status.idle": "2022-04-27T01:28:06.787930Z",
     "shell.execute_reply": "2022-04-27T01:28:06.787407Z"
    },
    "id": "e62jzb36-Jog"
   },
   "outputs": [],
   "source": [
    "def plot_spectrogram(spectrogram, ax):\n",
    "  if len(spectrogram.shape) > 2:\n",
    "    assert len(spectrogram.shape) == 3\n",
    "    spectrogram = np.squeeze(spectrogram, axis=-1)\n",
    "  # Convert the frequencies to log scale and transpose, so that the time is\n",
    "  # represented on the x-axis (columns).\n",
    "  # Add an epsilon to avoid taking a log of zero.\n",
    "  log_spec = np.log(spectrogram.T + np.finfo(float).eps) #倒一下\n",
    "  height = log_spec.shape[0] # 频率\n",
    "  width = log_spec.shape[1] # 时间\n",
    "  # 128，125\n",
    "  #print(np.size(spectrogram))\n",
    "  X = np.linspace(0, np.size(spectrogram), num=width, dtype=int)\n",
    "  Y = range(height)\n",
    "  ax.pcolormesh(X, Y, log_spec)\n"
   ]
  },
  {
   "cell_type": "markdown",
   "metadata": {
    "id": "baa5c91e8603"
   },
   "source": [
    "Plot the example's waveform over time and the corresponding spectrogram (frequencies over time):"
   ]
  },
  {
   "cell_type": "code",
   "execution_count": 16,
   "metadata": {
    "ExecuteTime": {
     "end_time": "2022-05-04T18:32:43.369055Z",
     "start_time": "2022-05-04T18:32:43.242223Z"
    },
    "execution": {
     "iopub.execute_input": "2022-04-27T01:28:06.790846Z",
     "iopub.status.busy": "2022-04-27T01:28:06.790429Z",
     "iopub.status.idle": "2022-04-27T01:28:07.016698Z",
     "shell.execute_reply": "2022-04-27T01:28:07.016088Z"
    },
    "id": "d2_CikgY1tjv"
   },
   "outputs": [
    {
     "data": {
      "image/png": "[encoded data removed]",
      "text/plain": [
       "<Figure size 864x576 with 3 Axes>"
      ]
     },
     "metadata": {
      "needs_background": "light"
     },
     "output_type": "display_data"
    }
   ],
   "source": [
    "fig, axes = plt.subplots(3, figsize=(12, 8))\n",
    "timescale = np.arange(waveform.shape[0])\n",
    "axes[0].plot(timescale, waveform.numpy())\n",
    "axes[0].set_title('Waveform')\n",
    "axes[0].set_xlim([0, 16000])\n",
    "\n",
    "#print(spectrogram.numpy().shape)\n",
    "#print(spectrogram.numpy().shape)\n",
    "plot_spectrogram(spectrogram.numpy(), axes[1])\n",
    "axes[1].set_title('spectrogram')\n",
    "plot_spectrogram(melspectrogram.numpy(), axes[2])\n",
    "axes[2].set_title('melspectrogram')\n",
    "plt.show()"
   ]
  },
  {
   "cell_type": "markdown",
   "metadata": {
    "id": "GyYXjW07jCHA"
   },
   "source": [
    "Now, define a function that transforms the waveform dataset into spectrograms and their corresponding labels as integer IDs:"
   ]
  },
  {
   "cell_type": "code",
   "execution_count": 17,
   "metadata": {
    "ExecuteTime": {
     "end_time": "2022-05-04T18:32:43.385014Z",
     "start_time": "2022-05-04T18:32:43.370055Z"
    },
    "execution": {
     "iopub.execute_input": "2022-04-27T01:28:07.020588Z",
     "iopub.status.busy": "2022-04-27T01:28:07.020383Z",
     "iopub.status.idle": "2022-04-27T01:28:07.023802Z",
     "shell.execute_reply": "2022-04-27T01:28:07.023257Z"
    },
    "id": "43IS2IouEV40"
   },
   "outputs": [],
   "source": [
    "def get_spectrogram_and_label_id(audio, label):\n",
    "  spectrogram = get_spectrogram(audio)\n",
    "  melspectrogram = get_melcepstrum(tf.squeeze(spectrogram, axis=-1))\n",
    "  label_id = tf.argmax(label == commands)\n",
    "  return melspectrogram, label_id"
   ]
  },
  {
   "cell_type": "markdown",
   "metadata": {
    "id": "cf5d5b033a45"
   },
   "source": [
    "Map `get_spectrogram_and_label_id` across the dataset's elements with `Dataset.map`:"
   ]
  },
  {
   "cell_type": "code",
   "execution_count": 18,
   "metadata": {
    "ExecuteTime": {
     "end_time": "2022-05-04T18:32:43.543014Z",
     "start_time": "2022-05-04T18:32:43.386015Z"
    },
    "execution": {
     "iopub.execute_input": "2022-04-27T01:28:07.026480Z",
     "iopub.status.busy": "2022-04-27T01:28:07.026293Z",
     "iopub.status.idle": "2022-04-27T01:28:07.177122Z",
     "shell.execute_reply": "2022-04-27T01:28:07.176472Z"
    },
    "id": "yEVb_oK0oBLQ"
   },
   "outputs": [],
   "source": [
    "spectrogram_ds = waveform_ds.map(\n",
    "  map_func=get_spectrogram_and_label_id,\n",
    "  num_parallel_calls=AUTOTUNE)"
   ]
  },
  {
   "cell_type": "markdown",
   "metadata": {
    "id": "6gQpAAgMnyDi"
   },
   "source": [
    "Examine the spectrograms for different examples of the dataset:"
   ]
  },
  {
   "cell_type": "code",
   "execution_count": 19,
   "metadata": {
    "ExecuteTime": {
     "end_time": "2022-05-04T18:32:43.750012Z",
     "start_time": "2022-05-04T18:32:43.543225Z"
    },
    "execution": {
     "iopub.execute_input": "2022-04-27T01:28:07.180705Z",
     "iopub.status.busy": "2022-04-27T01:28:07.180308Z",
     "iopub.status.idle": "2022-04-27T01:28:07.816082Z",
     "shell.execute_reply": "2022-04-27T01:28:07.815604Z"
    },
    "id": "QUbHfTuon4iF"
   },
   "outputs": [
    {
     "data": {
      "image/png": "[encoded data removed]",
      "text/plain": [
       "<Figure size 720x720 with 9 Axes>"
      ]
     },
     "metadata": {
      "needs_background": "light"
     },
     "output_type": "display_data"
    }
   ],
   "source": [
    "rows = 3\n",
    "cols = 3\n",
    "n = rows*cols\n",
    "fig, axes = plt.subplots(rows, cols, figsize=(10, 10))\n",
    "\n",
    "for i, (spectrogram, label_id) in enumerate(spectrogram_ds.take(n)):\n",
    "  r = i // cols\n",
    "  c = i % cols\n",
    "  ax = axes[r][c]\n",
    "  plot_spectrogram(spectrogram.numpy(), ax)\n",
    "  ax.set_title(commands[label_id.numpy()])\n",
    "  ax.axis('off')\n",
    "\n",
    "plt.show()"
   ]
  },
  {
   "cell_type": "markdown",
   "metadata": {
    "id": "z5KdY8IF8rkt"
   },
   "source": [
    "## Build and train the model\n",
    "\n",
    "Repeat the training set preprocessing on the validation and test sets:"
   ]
  },
  {
   "cell_type": "code",
   "execution_count": 20,
   "metadata": {
    "ExecuteTime": {
     "end_time": "2022-05-04T18:32:43.766017Z",
     "start_time": "2022-05-04T18:32:43.751013Z"
    },
    "execution": {
     "iopub.execute_input": "2022-04-27T01:28:07.824524Z",
     "iopub.status.busy": "2022-04-27T01:28:07.823984Z",
     "iopub.status.idle": "2022-04-27T01:28:07.828080Z",
     "shell.execute_reply": "2022-04-27T01:28:07.827560Z"
    },
    "id": "10UI32QH_45b"
   },
   "outputs": [],
   "source": [
    "def preprocess_dataset(files):\n",
    "  files_ds = tf.data.Dataset.from_tensor_slices(files)\n",
    "  output_ds = files_ds.map(\n",
    "      map_func=get_waveform_and_label,\n",
    "      num_parallel_calls=AUTOTUNE)\n",
    "  output_ds = output_ds.map(\n",
    "      map_func=get_spectrogram_and_label_id,\n",
    "      num_parallel_calls=AUTOTUNE)\n",
    "  return output_ds"
   ]
  },
  {
   "cell_type": "code",
   "execution_count": 21,
   "metadata": {
    "ExecuteTime": {
     "end_time": "2022-05-04T18:32:43.955043Z",
     "start_time": "2022-05-04T18:32:43.767017Z"
    },
    "execution": {
     "iopub.execute_input": "2022-04-27T01:28:07.831060Z",
     "iopub.status.busy": "2022-04-27T01:28:07.830504Z",
     "iopub.status.idle": "2022-04-27T01:28:08.040814Z",
     "shell.execute_reply": "2022-04-27T01:28:08.040269Z"
    },
    "id": "HNv4xwYkB2P6"
   },
   "outputs": [],
   "source": [
    "train_ds = spectrogram_ds\n",
    "val_ds = preprocess_dataset(val_files)\n",
    "test_ds = preprocess_dataset(test_files)"
   ]
  },
  {
   "cell_type": "markdown",
   "metadata": {
    "id": "assnWo6SB3lR"
   },
   "source": [
    "Batch the training and validation sets for model training:"
   ]
  },
  {
   "cell_type": "code",
   "execution_count": 22,
   "metadata": {
    "ExecuteTime": {
     "end_time": "2022-05-04T18:32:43.970196Z",
     "start_time": "2022-05-04T18:32:43.956077Z"
    },
    "execution": {
     "iopub.execute_input": "2022-04-27T01:28:08.044235Z",
     "iopub.status.busy": "2022-04-27T01:28:08.044048Z",
     "iopub.status.idle": "2022-04-27T01:28:08.048809Z",
     "shell.execute_reply": "2022-04-27T01:28:08.048252Z"
    },
    "id": "UgY9WYzn61EX"
   },
   "outputs": [],
   "source": [
    "batch_size = 64\n",
    "train_ds = train_ds.batch(batch_size)\n",
    "val_ds = val_ds.batch(batch_size)"
   ]
  },
  {
   "cell_type": "markdown",
   "metadata": {
    "id": "GS1uIh6F_TN9"
   },
   "source": [
    "Add `Dataset.cache` and `Dataset.prefetch` operations to reduce read latency while training the model:"
   ]
  },
  {
   "cell_type": "code",
   "execution_count": 23,
   "metadata": {
    "ExecuteTime": {
     "end_time": "2022-05-04T18:32:43.986014Z",
     "start_time": "2022-05-04T18:32:43.971196Z"
    },
    "execution": {
     "iopub.execute_input": "2022-04-27T01:28:08.051867Z",
     "iopub.status.busy": "2022-04-27T01:28:08.051351Z",
     "iopub.status.idle": "2022-04-27T01:28:08.055861Z",
     "shell.execute_reply": "2022-04-27T01:28:08.055427Z"
    },
    "id": "fdZ6M-F5_QzY"
   },
   "outputs": [],
   "source": [
    "train_ds = train_ds.cache().prefetch(AUTOTUNE)\n",
    "val_ds = val_ds.cache().prefetch(AUTOTUNE)"
   ]
  },
  {
   "cell_type": "markdown",
   "metadata": {
    "id": "rwHkKCQQb5oW"
   },
   "source": [
    "For the model, you'll use a simple convolutional neural network (CNN), since you have transformed the audio files into spectrogram images.\n",
    "\n",
    "Your `tf.keras.Sequential` model will use the following Keras preprocessing layers:\n",
    "\n",
    "- `tf.keras.layers.Resizing`: to downsample the input to enable the model to train faster.\n",
    "- `tf.keras.layers.Normalization`: to normalize each pixel in the image based on its mean and standard deviation.\n",
    "\n",
    "For the `Normalization` layer, its `adapt` method would first need to be called on the training data in order to compute aggregate statistics (that is, the mean and the standard deviation)."
   ]
  },
  {
   "cell_type": "code",
   "execution_count": 24,
   "metadata": {
    "ExecuteTime": {
     "end_time": "2022-05-04T18:32:44.160108Z",
     "start_time": "2022-05-04T18:32:43.987015Z"
    },
    "execution": {
     "iopub.execute_input": "2022-04-27T01:28:08.058562Z",
     "iopub.status.busy": "2022-04-27T01:28:08.058373Z",
     "iopub.status.idle": "2022-04-27T01:28:16.370854Z",
     "shell.execute_reply": "2022-04-27T01:28:16.370045Z"
    },
    "id": "ALYz7PFCHblP"
   },
   "outputs": [
    {
     "name": "stdout",
     "output_type": "stream",
     "text": [
      "Input shape: (30, 40, 1)\n",
      "Model: \"sequential\"\n",
      "_________________________________________________________________\n",
      " Layer (type)                Output Shape              Param #   \n",
      "=================================================================\n",
      " conv2d (Conv2D)             (None, 28, 33, 54)        1350      \n",
      "                                                                 \n",
      " max_pooling2d (MaxPooling2D  (None, 28, 31, 54)       0         \n",
      " )                                                               \n",
      "                                                                 \n",
      " dropout (Dropout)           (None, 28, 31, 54)        0         \n",
      "                                                                 \n",
      " flatten (Flatten)           (None, 46872)             0         \n",
      "                                                                 \n",
      " dense (Dense)               (None, 32)                1499936   \n",
      "                                                                 \n",
      " dense_1 (Dense)             (None, 32)                1056      \n",
      "                                                                 \n",
      " dense_2 (Dense)             (None, 8)                 264       \n",
      "                                                                 \n",
      "=================================================================\n",
      "Total params: 1,502,606\n",
      "Trainable params: 1,502,606\n",
      "Non-trainable params: 0\n",
      "_________________________________________________________________\n"
     ]
    }
   ],
   "source": [
    "for spectrogram, _ in spectrogram_ds.take(1):\n",
    "  input_shape = spectrogram.shape\n",
    "print('Input shape:', input_shape)\n",
    "num_labels = len(commands)\n",
    "\n",
    "# Instantiate the `tf.keras.layers.Normalization` layer.\n",
    "#norm_layer = layers.Normalization()(Raspi内部tf2.4不支持这个层)\n",
    "# Fit the state of the layer to the spectrograms\n",
    "# with `Normalization.adapt`.\n",
    "#norm_layer.adapt(data=spectrogram_ds.map(map_func=lambda spec, label: spec))\n",
    "\n",
    "model = models.Sequential([\n",
    "    layers.Input(shape=input_shape),\n",
    "    # Downsample the input.\n",
    "    #layers.Resizing(32, 32),\n",
    "    # Normalize.\n",
    "    #norm_layer,(Raspi内部tf2.4不支持这个层)\n",
    "    layers.Conv2D(54, (3,8),strides=(1,1),activation='relu'),\n",
    "    layers.MaxPooling2D(pool_size=(1,3),strides=(1,1)),\n",
    "    layers.Dropout(0.25),\n",
    "    #layers.Conv2D(64, 3, activation='relu'),\n",
    "    layers.Flatten(),\n",
    "    layers.Dense(32, activation='relu'),\n",
    "    #layers.Dropout(0.5),\n",
    "    layers.Dense(32, activation='relu'),\n",
    "    #layers.Dropout(0.1),\n",
    "    layers.Dense(num_labels),\n",
    "])\n",
    "\n",
    "model.summary()"
   ]
  },
  {
   "cell_type": "markdown",
   "metadata": {
    "id": "de52e5afa2f3"
   },
   "source": [
    "Configure the Keras model with the Adam optimizer and the cross-entropy loss:"
   ]
  },
  {
   "cell_type": "code",
   "execution_count": 25,
   "metadata": {
    "ExecuteTime": {
     "end_time": "2022-05-04T18:32:44.175094Z",
     "start_time": "2022-05-04T18:32:44.161066Z"
    },
    "execution": {
     "iopub.execute_input": "2022-04-27T01:28:16.382215Z",
     "iopub.status.busy": "2022-04-27T01:28:16.381982Z",
     "iopub.status.idle": "2022-04-27T01:28:16.392442Z",
     "shell.execute_reply": "2022-04-27T01:28:16.391892Z"
    },
    "id": "wFjj7-EmsTD-"
   },
   "outputs": [],
   "source": [
    "model.compile(\n",
    "    optimizer=tf.keras.optimizers.Adam(),\n",
    "    loss=tf.keras.losses.SparseCategoricalCrossentropy(from_logits=True),\n",
    "    metrics=['accuracy'],\n",
    ")"
   ]
  },
  {
   "cell_type": "markdown",
   "metadata": {
    "id": "f42b9e3a4705"
   },
   "source": [
    "Train the model over 10 epochs for demonstration purposes:"
   ]
  },
  {
   "cell_type": "code",
   "execution_count": 26,
   "metadata": {
    "ExecuteTime": {
     "end_time": "2022-05-04T18:32:49.704016Z",
     "start_time": "2022-05-04T18:32:44.176065Z"
    },
    "execution": {
     "iopub.execute_input": "2022-04-27T01:28:16.395490Z",
     "iopub.status.busy": "2022-04-27T01:28:16.395292Z",
     "iopub.status.idle": "2022-04-27T01:28:31.001194Z",
     "shell.execute_reply": "2022-04-27T01:28:31.000504Z"
    },
    "id": "ttioPJVMcGtq"
   },
   "outputs": [
    {
     "name": "stdout",
     "output_type": "stream",
     "text": [
      "Epoch 1/10\n",
      "100/100 [==============================] - 3s 12ms/step - loss: 2.1241 - accuracy: 0.2441 - val_loss: 1.7373 - val_accuracy: 0.3313\n",
      "Epoch 2/10\n",
      "100/100 [==============================] - 0s 3ms/step - loss: 1.4737 - accuracy: 0.4670 - val_loss: 1.2796 - val_accuracy: 0.5575\n",
      "Epoch 3/10\n",
      "100/100 [==============================] - 0s 3ms/step - loss: 1.0276 - accuracy: 0.6298 - val_loss: 1.0028 - val_accuracy: 0.6575\n",
      "Epoch 4/10\n",
      "100/100 [==============================] - 0s 3ms/step - loss: 0.7865 - accuracy: 0.7327 - val_loss: 0.9400 - val_accuracy: 0.6800\n",
      "Epoch 5/10\n",
      "100/100 [==============================] - 0s 3ms/step - loss: 0.6472 - accuracy: 0.7811 - val_loss: 0.8655 - val_accuracy: 0.7375\n",
      "Epoch 6/10\n",
      "100/100 [==============================] - 0s 3ms/step - loss: 0.5453 - accuracy: 0.8111 - val_loss: 0.9049 - val_accuracy: 0.7400\n",
      "Epoch 7/10\n",
      "100/100 [==============================] - 0s 3ms/step - loss: 0.4328 - accuracy: 0.8534 - val_loss: 0.8042 - val_accuracy: 0.7862\n",
      "Epoch 8/10\n",
      "100/100 [==============================] - 0s 3ms/step - loss: 0.4074 - accuracy: 0.8664 - val_loss: 0.8857 - val_accuracy: 0.7500\n",
      "Epoch 9/10\n",
      "100/100 [==============================] - 0s 3ms/step - loss: 0.3490 - accuracy: 0.8823 - val_loss: 0.9263 - val_accuracy: 0.7750\n",
      "Epoch 9: early stopping\n"
     ]
    }
   ],
   "source": [
    "EPOCHS = 10\n",
    "history = model.fit(\n",
    "    train_ds,\n",
    "    validation_data=val_ds,\n",
    "    epochs=EPOCHS,\n",
    "    callbacks=tf.keras.callbacks.EarlyStopping(verbose=1, patience=2),\n",
    ")"
   ]
  },
  {
   "cell_type": "markdown",
   "metadata": {
    "id": "gjpCDeQ4mUfS"
   },
   "source": [
    "Let's plot the training and validation loss curves to check how your model has improved during training:"
   ]
  },
  {
   "cell_type": "code",
   "execution_count": 27,
   "metadata": {
    "ExecuteTime": {
     "end_time": "2022-05-04T18:32:49.767015Z",
     "start_time": "2022-05-04T18:32:49.704016Z"
    },
    "execution": {
     "iopub.execute_input": "2022-04-27T01:28:31.005175Z",
     "iopub.status.busy": "2022-04-27T01:28:31.004605Z",
     "iopub.status.idle": "2022-04-27T01:28:31.125581Z",
     "shell.execute_reply": "2022-04-27T01:28:31.124819Z"
    },
    "id": "nzhipg3Gu2AY"
   },
   "outputs": [
    {
     "data": {
      "image/png": "[encoded data removed]",
      "text/plain": [
       "<Figure size 432x288 with 1 Axes>"
      ]
     },
     "metadata": {
      "needs_background": "light"
     },
     "output_type": "display_data"
    }
   ],
   "source": [
    "metrics = history.history\n",
    "plt.plot(history.epoch, metrics['loss'], metrics['val_loss'])\n",
    "plt.legend(['loss', 'val_loss'])\n",
    "plt.show()"
   ]
  },
  {
   "cell_type": "markdown",
   "metadata": {
    "id": "5ZTt3kO3mfm4"
   },
   "source": [
    "## Evaluate the model performance\n",
    "\n",
    "Run the model on the test set and check the model's performance:"
   ]
  },
  {
   "cell_type": "code",
   "execution_count": 28,
   "metadata": {
    "ExecuteTime": {
     "end_time": "2022-05-04T18:32:49.989014Z",
     "start_time": "2022-05-04T18:32:49.769017Z"
    },
    "execution": {
     "iopub.execute_input": "2022-04-27T01:28:31.129052Z",
     "iopub.status.busy": "2022-04-27T01:28:31.128533Z",
     "iopub.status.idle": "2022-04-27T01:28:31.495667Z",
     "shell.execute_reply": "2022-04-27T01:28:31.494970Z"
    },
    "id": "biU2MwzyAo8o"
   },
   "outputs": [],
   "source": [
    "test_audio = []\n",
    "test_labels = []\n",
    "\n",
    "for audio, label in test_ds:\n",
    "  test_audio.append(audio.numpy())\n",
    "  test_labels.append(label.numpy())\n",
    "\n",
    "test_audio = np.array(test_audio)\n",
    "test_labels = np.array(test_labels)"
   ]
  },
  {
   "cell_type": "code",
   "execution_count": 29,
   "metadata": {
    "ExecuteTime": {
     "end_time": "2022-05-04T18:32:50.082011Z",
     "start_time": "2022-05-04T18:32:49.990014Z"
    },
    "execution": {
     "iopub.execute_input": "2022-04-27T01:28:31.499711Z",
     "iopub.status.busy": "2022-04-27T01:28:31.499184Z",
     "iopub.status.idle": "2022-04-27T01:28:31.760456Z",
     "shell.execute_reply": "2022-04-27T01:28:31.759703Z"
    },
    "id": "ktUanr9mRZky"
   },
   "outputs": [
    {
     "name": "stdout",
     "output_type": "stream",
     "text": [
      "Test set accuracy: 77%\n"
     ]
    }
   ],
   "source": [
    "y_pred = np.argmax(model.predict(test_audio), axis=1)\n",
    "y_true = test_labels\n",
    "\n",
    "test_acc = sum(y_pred == y_true) / len(y_true)\n",
    "print(f'Test set accuracy: {test_acc:.0%}')"
   ]
  },
  {
   "cell_type": "markdown",
   "metadata": {
    "id": "en9Znt1NOabH"
   },
   "source": [
    "### Display a confusion matrix\n",
    "\n",
    "Use a <a href=\"https://developers.google.com/machine-learning/glossary#confusion-matrix\" class=\"external\">confusion matrix</a> to check how well the model did classifying each of the commands in the test set:\n"
   ]
  },
  {
   "cell_type": "code",
   "execution_count": 30,
   "metadata": {
    "ExecuteTime": {
     "end_time": "2022-05-04T18:32:50.335638Z",
     "start_time": "2022-05-04T18:32:50.083012Z"
    },
    "execution": {
     "iopub.execute_input": "2022-04-27T01:28:31.763628Z",
     "iopub.status.busy": "2022-04-27T01:28:31.763203Z",
     "iopub.status.idle": "2022-04-27T01:28:32.099650Z",
     "shell.execute_reply": "2022-04-27T01:28:32.098887Z"
    },
    "id": "LvoSAOiXU3lL"
   },
   "outputs": [
    {
     "data": {
      "image/png": "[encoded data removed]",
      "text/plain": [
       "<Figure size 720x576 with 2 Axes>"
      ]
     },
     "metadata": {
      "needs_background": "light"
     },
     "output_type": "display_data"
    }
   ],
   "source": [
    "confusion_mtx = tf.math.confusion_matrix(y_true, y_pred)\n",
    "plt.figure(figsize=(10, 8))\n",
    "sns.heatmap(confusion_mtx,\n",
    "            xticklabels=commands,\n",
    "            yticklabels=commands,\n",
    "            annot=True, fmt='g')\n",
    "plt.xlabel('Prediction')\n",
    "plt.ylabel('Label')\n",
    "plt.show()"
   ]
  },
  {
   "cell_type": "markdown",
   "metadata": {
    "id": "mQGi_mzPcLvl"
   },
   "source": [
    "## Run inference on an audio file\n",
    "\n",
    "Finally, verify the model's prediction output using an input audio file of someone saying \"no\". How well does your model perform?"
   ]
  },
  {
   "cell_type": "code",
   "execution_count": 31,
   "metadata": {
    "ExecuteTime": {
     "end_time": "2022-05-04T18:32:50.570013Z",
     "start_time": "2022-05-04T18:32:50.336638Z"
    },
    "execution": {
     "iopub.execute_input": "2022-04-27T01:28:32.103054Z",
     "iopub.status.busy": "2022-04-27T01:28:32.102560Z",
     "iopub.status.idle": "2022-04-27T01:28:32.401989Z",
     "shell.execute_reply": "2022-04-27T01:28:32.401327Z"
    },
    "id": "zRxauKMdhofU"
   },
   "outputs": [
    {
     "data": {
      "image/png": "[encoded data removed]",
      "text/plain": [
       "<Figure size 432x288 with 1 Axes>"
      ]
     },
     "metadata": {
      "needs_background": "light"
     },
     "output_type": "display_data"
    }
   ],
   "source": [
    "sample_file = data_dir/'no/01bb6a2a_nohash_0.wav'\n",
    "\n",
    "sample_ds = preprocess_dataset([str(sample_file)])\n",
    "\n",
    "for spectrogram, label in sample_ds.batch(1):\n",
    "  prediction = model(spectrogram)\n",
    "  plt.bar(commands, tf.nn.softmax(prediction[0]))\n",
    "  plt.title(f'Predictions for \"{commands[label[0]]}\"')\n",
    "  plt.show()"
   ]
  },
  {
   "cell_type": "markdown",
   "metadata": {
    "id": "VgWICqdqQNaQ"
   },
   "source": [
    "As the output suggests, your model should have recognized the audio command as \"no\"."
   ]
  },
  {
   "cell_type": "markdown",
   "metadata": {},
   "source": [
    "## 保存模型"
   ]
  },
  {
   "cell_type": "code",
   "execution_count": 32,
   "metadata": {
    "ExecuteTime": {
     "end_time": "2022-05-04T18:32:50.601011Z",
     "start_time": "2022-05-04T18:32:50.571014Z"
    }
   },
   "outputs": [],
   "source": [
    "model.save(\"KWS on Raspi.h5\")"
   ]
  },
  {
   "cell_type": "markdown",
   "metadata": {
    "id": "J3jF933m9z1J"
   },
   "source": [
    "## Next steps\n",
    "\n",
    "This tutorial demonstrated how to carry out simple audio classification/automatic speech recognition using a convolutional neural network with TensorFlow and Python. To learn more, consider the following resources:\n",
    "\n",
    "- The [Sound classification with YAMNet](https://www.tensorflow.org/hub/tutorials/yamnet) tutorial shows how to use transfer learning for audio classification.\n",
    "- The notebooks from <a href=\"https://www.kaggle.com/c/tensorflow-speech-recognition-challenge/overview\" class=\"external\">Kaggle's TensorFlow speech recognition challenge</a>.\n",
    "- The \n",
    "<a href=\"https://codelabs.developers.google.com/codelabs/tensorflowjs-audio-codelab/index.html#0\" class=\"external\">TensorFlow.js - Audio recognition using transfer learning codelab</a> teaches how to build your own interactive web app for audio classification.\n",
    "- <a href=\"https://arxiv.org/abs/1709.04396\" class=\"external\">A tutorial on deep learning for music information retrieval</a> (Choi et al., 2017) on arXiv.\n",
    "- TensorFlow also has additional support for [audio data preparation and augmentation](https://www.tensorflow.org/io/tutorials/audio) to help with your own audio-based projects.\n",
    "- Consider using the <a href=\"https://librosa.org/\" class=\"external\">librosa</a> library—a Python package for music and audio analysis."
   ]
  }
 ],
 "metadata": {
  "accelerator": "GPU",
  "colab": {
   "collapsed_sections": [],
   "name": "simple_audio.ipynb",
   "toc_visible": true
  },
  "kernelspec": {
   "display_name": "Python 3 (ipykernel)",
   "language": "python",
   "name": "python3"
  },
  "language_info": {
   "codemirror_mode": {
    "name": "ipython",
    "version": 3
   },
   "file_extension": ".py",
   "mimetype": "text/x-python",
   "name": "python",
   "nbconvert_exporter": "python",
   "pygments_lexer": "ipython3",
   "version": "3.7.4"
  }
 },
 "nbformat": 4,
 "nbformat_minor": 1
}
