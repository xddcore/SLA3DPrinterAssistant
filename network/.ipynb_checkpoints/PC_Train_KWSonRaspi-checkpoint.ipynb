{
 "cells": [
  {
   "cell_type": "markdown",
   "metadata": {
    "id": "fluF3_oOgkWF"
   },
   "source": [
    "##### Copyright 2020 The TensorFlow Authors."
   ]
  },
  {
   "cell_type": "code",
   "execution_count": 1,
   "metadata": {
    "ExecuteTime": {
     "end_time": "2022-05-04T18:26:13.420998Z",
     "start_time": "2022-05-04T18:26:13.408998Z"
    },
    "cellView": "form",
    "execution": {
     "iopub.execute_input": "2022-04-27T01:27:51.618947Z",
     "iopub.status.busy": "2022-04-27T01:27:51.618495Z",
     "iopub.status.idle": "2022-04-27T01:27:51.622135Z",
     "shell.execute_reply": "2022-04-27T01:27:51.621655Z"
    },
    "id": "AJs7HHFmg1M9"
   },
   "outputs": [],
   "source": [
    "#@title Licensed under the Apache License, Version 2.0 (the \"License\");\n",
    "# you may not use this file except in compliance with the License.\n",
    "# You may obtain a copy of the License at\n",
    "#\n",
    "# https://www.apache.org/licenses/LICENSE-2.0\n",
    "#\n",
    "# Unless required by applicable law or agreed to in writing, software\n",
    "# distributed under the License is distributed on an \"AS IS\" BASIS,\n",
    "# WITHOUT WARRANTIES OR CONDITIONS OF ANY KIND, either express or implied.\n",
    "# See the License for the specific language governing permissions and\n",
    "# limitations under the License."
   ]
  },
  {
   "cell_type": "markdown",
   "metadata": {
    "id": "jYysdyb-CaWM"
   },
   "source": [
    "# Simple audio recognition: Recognizing keywords"
   ]
  },
  {
   "cell_type": "markdown",
   "metadata": {
    "id": "CNbqmZy0gbyE"
   },
   "source": [
    "<table class=\"tfo-notebook-buttons\" align=\"left\">\n",
    "  <td>\n",
    "    <a target=\"_blank\" href=\"https://www.tensorflow.org/tutorials/audio/simple_audio\">\n",
    "    <img src=\"https://www.tensorflow.org/images/tf_logo_32px.png\" />\n",
    "    View on TensorFlow.org</a>\n",
    "  </td>\n",
    "  <td>\n",
    "    <a target=\"_blank\" href=\"https://colab.research.google.com/github/tensorflow/docs/blob/master/site/en/tutorials/audio/simple_audio.ipynb\">\n",
    "    <img src=\"https://www.tensorflow.org/images/colab_logo_32px.png\" />\n",
    "    Run in Google Colab</a>\n",
    "  </td>\n",
    "  <td>\n",
    "    <a target=\"_blank\" href=\"https://github.com/tensorflow/docs/blob/master/site/en/tutorials/audio/simple_audio.ipynb\">\n",
    "    <img src=\"https://www.tensorflow.org/images/GitHub-Mark-32px.png\" />\n",
    "    View source on GitHub</a>\n",
    "  </td>\n",
    "  <td>\n",
    "    <a href=\"https://storage.googleapis.com/tensorflow_docs/docs/site/en/tutorials/audio/simple_audio.ipynb\"><img src=\"https://www.tensorflow.org/images/download_logo_32px.png\" />Download notebook</a>\n",
    "  </td>\n",
    "</table>"
   ]
  },
  {
   "cell_type": "markdown",
   "metadata": {
    "id": "SPfDNFlb66XF"
   },
   "source": [
    "This tutorial demonstrates how to preprocess audio files in the WAV format and build and train a basic <a href=\"https://en.wikipedia.org/wiki/Speech_recognition\" class=\"external\">automatic speech recognition</a> (ASR) model for recognizing ten different words. You will use a portion of the [Speech Commands dataset](https://www.tensorflow.org/datasets/catalog/speech_commands) (<a href=\"https://arxiv.org/abs/1804.03209\" class=\"external\">Warden, 2018</a>), which contains short (one-second or less) audio clips of commands, such as \"down\", \"go\", \"left\", \"no\", \"right\", \"stop\", \"up\" and \"yes\".\n",
    "\n",
    "Real-world speech and audio recognition <a href=\"https://ai.googleblog.com/search/label/Speech%20Recognition\" class=\"external\">systems</a> are complex. But, like [image classification with the MNIST dataset](../quickstart/beginner.ipynb), this tutorial should give you a basic understanding of the techniques involved."
   ]
  },
  {
   "cell_type": "markdown",
   "metadata": {
    "id": "Go9C3uLL8Izc"
   },
   "source": [
    "## Setup\n",
    "\n",
    "Import necessary modules and dependencies. Note that you'll be using <a href=\"https://seaborn.pydata.org/\" class=\"external\">seaborn</a> for visualization in this tutorial."
   ]
  },
  {
   "cell_type": "code",
   "execution_count": 2,
   "metadata": {
    "ExecuteTime": {
     "end_time": "2022-05-04T18:26:15.044012Z",
     "start_time": "2022-05-04T18:26:13.421997Z"
    },
    "execution": {
     "iopub.execute_input": "2022-04-27T01:27:51.625191Z",
     "iopub.status.busy": "2022-04-27T01:27:51.624860Z",
     "iopub.status.idle": "2022-04-27T01:27:54.694554Z",
     "shell.execute_reply": "2022-04-27T01:27:54.693942Z"
    },
    "id": "dzLKpmZICaWN"
   },
   "outputs": [],
   "source": [
    "import os\n",
    "import pathlib\n",
    "\n",
    "import matplotlib.pyplot as plt\n",
    "import numpy as np\n",
    "import seaborn as sns\n",
    "import tensorflow as tf\n",
    "\n",
    "from tensorflow.keras import layers\n",
    "from tensorflow.keras import models\n",
    "from IPython import display\n",
    "\n",
    "# Set the seed value for experiment reproducibility.\n",
    "seed = 42\n",
    "tf.random.set_seed(seed)\n",
    "np.random.seed(seed)"
   ]
  },
  {
   "cell_type": "markdown",
   "metadata": {
    "id": "yR0EdgrLCaWR"
   },
   "source": [
    "## Import the mini Speech Commands dataset\n",
    "\n",
    "To save time with data loading, you will be working with a smaller version of the Speech Commands dataset. The [original dataset](https://www.tensorflow.org/datasets/catalog/speech_commands) consists of over 105,000 audio files in the <a href=\"https://www.aelius.com/njh/wavemetatools/doc/riffmci.pdf\" class=\"external\">WAV (Waveform) audio file format</a> of people saying 35 different words. This data was collected by Google and released under a CC BY license.\n",
    "\n",
    "Download and extract the `mini_speech_commands.zip` file containing the smaller Speech Commands datasets with `tf.keras.utils.get_file`:"
   ]
  },
  {
   "cell_type": "code",
   "execution_count": 3,
   "metadata": {
    "ExecuteTime": {
     "end_time": "2022-05-04T18:26:15.060091Z",
     "start_time": "2022-05-04T18:26:15.044012Z"
    },
    "execution": {
     "iopub.execute_input": "2022-04-27T01:27:54.698944Z",
     "iopub.status.busy": "2022-04-27T01:27:54.698468Z",
     "iopub.status.idle": "2022-04-27T01:28:03.909538Z",
     "shell.execute_reply": "2022-04-27T01:28:03.908971Z"
    },
    "id": "2-rayb7-3Y0I"
   },
   "outputs": [],
   "source": [
    "DATASET_PATH = 'data/mini_speech_commands'\n",
    "\n",
    "data_dir = pathlib.Path(DATASET_PATH)\n",
    "if not data_dir.exists():\n",
    "  tf.keras.utils.get_file(\n",
    "      'mini_speech_commands.zip',\n",
    "      origin=\"http://storage.googleapis.com/download.tensorflow.org/data/mini_speech_commands.zip\",\n",
    "      extract=True,\n",
    "      cache_dir='.', cache_subdir='data')"
   ]
  },
  {
   "cell_type": "markdown",
   "metadata": {
    "id": "BgvFq3uYiS5G"
   },
   "source": [
    "The dataset's audio clips are stored in eight folders corresponding to each speech command: `no`, `yes`, `down`, `go`, `left`, `up`, `right`, and `stop`:"
   ]
  },
  {
   "cell_type": "code",
   "execution_count": 4,
   "metadata": {
    "ExecuteTime": {
     "end_time": "2022-05-04T18:26:15.076043Z",
     "start_time": "2022-05-04T18:26:15.061086Z"
    },
    "execution": {
     "iopub.execute_input": "2022-04-27T01:28:03.913320Z",
     "iopub.status.busy": "2022-04-27T01:28:03.912830Z",
     "iopub.status.idle": "2022-04-27T01:28:03.917225Z",
     "shell.execute_reply": "2022-04-27T01:28:03.916646Z"
    },
    "id": "70IBxSKxA1N9"
   },
   "outputs": [
    {
     "name": "stdout",
     "output_type": "stream",
     "text": [
      "Commands: ['down' 'go' 'left' 'no' 'right' 'stop' 'up' 'yes']\n"
     ]
    }
   ],
   "source": [
    "commands = np.array(tf.io.gfile.listdir(str(data_dir)))\n",
    "commands = commands[commands != 'README.md']\n",
    "print('Commands:', commands)"
   ]
  },
  {
   "cell_type": "markdown",
   "metadata": {
    "id": "aMvdU9SY8WXN"
   },
   "source": [
    "Extract the audio clips into a list called `filenames`, and shuffle it:"
   ]
  },
  {
   "cell_type": "code",
   "execution_count": 5,
   "metadata": {
    "ExecuteTime": {
     "end_time": "2022-05-04T18:26:15.552725Z",
     "start_time": "2022-05-04T18:26:15.077043Z"
    },
    "execution": {
     "iopub.execute_input": "2022-04-27T01:28:03.920164Z",
     "iopub.status.busy": "2022-04-27T01:28:03.919736Z",
     "iopub.status.idle": "2022-04-27T01:28:05.472082Z",
     "shell.execute_reply": "2022-04-27T01:28:05.471422Z"
    },
    "id": "hlX685l1wD9k"
   },
   "outputs": [
    {
     "name": "stdout",
     "output_type": "stream",
     "text": [
      "Number of total examples: 8000\n",
      "Number of examples per label: 1000\n",
      "Example file tensor: tf.Tensor(b'data\\\\mini_speech_commands\\\\stop\\\\b5d1e505_nohash_0.wav', shape=(), dtype=string)\n"
     ]
    }
   ],
   "source": [
    "filenames = tf.io.gfile.glob(str(data_dir) + '/*/*')\n",
    "filenames = tf.random.shuffle(filenames)\n",
    "num_samples = len(filenames)\n",
    "print('Number of total examples:', num_samples)\n",
    "print('Number of examples per label:',\n",
    "      len(tf.io.gfile.listdir(str(data_dir/commands[0]))))\n",
    "print('Example file tensor:', filenames[0])"
   ]
  },
  {
   "cell_type": "markdown",
   "metadata": {
    "id": "9vK3ymy23MCP"
   },
   "source": [
    "Split `filenames` into training, validation and test sets using a 80:10:10 ratio, respectively:"
   ]
  },
  {
   "cell_type": "code",
   "execution_count": 6,
   "metadata": {
    "ExecuteTime": {
     "end_time": "2022-05-04T18:26:15.568013Z",
     "start_time": "2022-05-04T18:26:15.553725Z"
    },
    "execution": {
     "iopub.execute_input": "2022-04-27T01:28:05.476809Z",
     "iopub.status.busy": "2022-04-27T01:28:05.476591Z",
     "iopub.status.idle": "2022-04-27T01:28:05.482302Z",
     "shell.execute_reply": "2022-04-27T01:28:05.481736Z"
    },
    "id": "Cv_wts-l3KgD"
   },
   "outputs": [
    {
     "name": "stdout",
     "output_type": "stream",
     "text": [
      "Training set size 6400\n",
      "Validation set size 800\n",
      "Test set size 800\n"
     ]
    }
   ],
   "source": [
    "train_files = filenames[:6400]\n",
    "val_files = filenames[6400: 6400 + 800]\n",
    "test_files = filenames[-800:]\n",
    "\n",
    "print('Training set size', len(train_files))\n",
    "print('Validation set size', len(val_files))\n",
    "print('Test set size', len(test_files))"
   ]
  },
  {
   "cell_type": "markdown",
   "metadata": {
    "id": "g2Cj9FyvfweD"
   },
   "source": [
    "## Read the audio files and their labels"
   ]
  },
  {
   "cell_type": "markdown",
   "metadata": {
    "id": "j1zjcWteOcBy"
   },
   "source": [
    "In this section you will preprocess the dataset, creating decoded tensors for the waveforms and the corresponding labels. Note that:\n",
    "\n",
    "- Each WAV file contains time-series data with a set number of samples per second.\n",
    "- Each sample represents the <a href=\"https://en.wikipedia.org/wiki/Amplitude\" class=\"external\">amplitude</a> of the audio signal at that specific time.\n",
    "- In a <a href=\"https://en.wikipedia.org/wiki/Audio_bit_depth\" class=\"external\">16-bit</a> system, like the WAV files in the mini Speech Commands dataset, the amplitude values range from -32,768 to 32,767.\n",
    "- The <a href=\"https://en.wikipedia.org/wiki/Sampling_(signal_processing)#Audio_sampling\" class=\"external\">sample rate</a> for this dataset is 16kHz.\n",
    "\n",
    "The shape of the tensor returned by `tf.audio.decode_wav` is `[samples, channels]`, where `channels` is `1` for mono or `2` for stereo. The mini Speech Commands dataset only contains mono recordings. "
   ]
  },
  {
   "cell_type": "code",
   "execution_count": 7,
   "metadata": {
    "ExecuteTime": {
     "end_time": "2022-05-04T18:26:15.584012Z",
     "start_time": "2022-05-04T18:26:15.569013Z"
    },
    "execution": {
     "iopub.execute_input": "2022-04-27T01:28:05.485399Z",
     "iopub.status.busy": "2022-04-27T01:28:05.485205Z",
     "iopub.status.idle": "2022-04-27T01:28:05.491865Z",
     "shell.execute_reply": "2022-04-27T01:28:05.491309Z"
    },
    "id": "d16bb8416f90"
   },
   "outputs": [
    {
     "data": {
      "text/plain": [
       "TensorShape([13654, 1])"
      ]
     },
     "execution_count": 7,
     "metadata": {},
     "output_type": "execute_result"
    }
   ],
   "source": [
    "test_file = tf.io.read_file(DATASET_PATH+'/down/0a9f9af7_nohash_0.wav')\n",
    "test_audio, _ = tf.audio.decode_wav(contents=test_file)\n",
    "test_audio.shape"
   ]
  },
  {
   "cell_type": "markdown",
   "metadata": {
    "id": "e6bb8defd2ef"
   },
   "source": [
    "Now, let's define a function that preprocesses the dataset's raw WAV audio files into audio tensors:"
   ]
  },
  {
   "cell_type": "code",
   "execution_count": 8,
   "metadata": {
    "ExecuteTime": {
     "end_time": "2022-05-04T18:26:15.600014Z",
     "start_time": "2022-05-04T18:26:15.584012Z"
    },
    "execution": {
     "iopub.execute_input": "2022-04-27T01:28:05.494664Z",
     "iopub.status.busy": "2022-04-27T01:28:05.494462Z",
     "iopub.status.idle": "2022-04-27T01:28:05.497918Z",
     "shell.execute_reply": "2022-04-27T01:28:05.497350Z"
    },
    "id": "9PjJ2iXYwftD"
   },
   "outputs": [],
   "source": [
    "def decode_audio(audio_binary):\n",
    "  # Decode WAV-encoded audio files to `float32` tensors, normalized\n",
    "  # to the [-1.0, 1.0] range. Return `float32` audio and a sample rate.\n",
    "  audio, _ = tf.audio.decode_wav(contents=audio_binary)\n",
    "  # Since all the data is single channel (mono), drop the `channels`\n",
    "  # axis from the array.\n",
    "  return tf.squeeze(audio, axis=-1)"
   ]
  },
  {
   "cell_type": "markdown",
   "metadata": {
    "id": "GPQseZElOjVN"
   },
   "source": [
    "Define a function that creates labels using the parent directories for each file:\n",
    "\n",
    "- Split the file paths into `tf.RaggedTensor`s (tensors with ragged dimensions—with slices that may have different lengths)."
   ]
  },
  {
   "cell_type": "code",
   "execution_count": 9,
   "metadata": {
    "ExecuteTime": {
     "end_time": "2022-05-04T18:26:15.616013Z",
     "start_time": "2022-05-04T18:26:15.600014Z"
    },
    "execution": {
     "iopub.execute_input": "2022-04-27T01:28:05.500592Z",
     "iopub.status.busy": "2022-04-27T01:28:05.500389Z",
     "iopub.status.idle": "2022-04-27T01:28:05.503893Z",
     "shell.execute_reply": "2022-04-27T01:28:05.503367Z"
    },
    "id": "8VTtX1nr3YT-"
   },
   "outputs": [],
   "source": [
    "def get_label(file_path):\n",
    "  parts = tf.strings.split(\n",
    "      input=file_path,\n",
    "      sep=os.path.sep)\n",
    "  # Note: You'll use indexing here instead of tuple unpacking to enable this\n",
    "  # to work in a TensorFlow graph.\n",
    "  return parts[-2]"
   ]
  },
  {
   "cell_type": "markdown",
   "metadata": {
    "id": "E8Y9w_5MOsr-"
   },
   "source": [
    "Define another helper function—`get_waveform_and_label`—that puts it all together:\n",
    "\n",
    "- The input is the WAV audio filename.\n",
    "- The output is a tuple containing the audio and label tensors ready for supervised learning."
   ]
  },
  {
   "cell_type": "code",
   "execution_count": 10,
   "metadata": {
    "ExecuteTime": {
     "end_time": "2022-05-04T18:26:15.632012Z",
     "start_time": "2022-05-04T18:26:15.617014Z"
    },
    "execution": {
     "iopub.execute_input": "2022-04-27T01:28:05.506699Z",
     "iopub.status.busy": "2022-04-27T01:28:05.506496Z",
     "iopub.status.idle": "2022-04-27T01:28:05.510175Z",
     "shell.execute_reply": "2022-04-27T01:28:05.509534Z"
    },
    "id": "WdgUD5T93NyT"
   },
   "outputs": [],
   "source": [
    "def get_waveform_and_label(file_path):\n",
    "  label = get_label(file_path)\n",
    "  audio_binary = tf.io.read_file(file_path)\n",
    "  waveform = decode_audio(audio_binary)\n",
    "  return waveform, label"
   ]
  },
  {
   "cell_type": "markdown",
   "metadata": {
    "id": "nvN8W_dDjYjc"
   },
   "source": [
    "Build the training set to extract the audio-label pairs:\n",
    "\n",
    "- Create a `tf.data.Dataset` with `Dataset.from_tensor_slices` and `Dataset.map`, using `get_waveform_and_label` defined earlier.\n",
    "\n",
    "You'll build the validation and test sets using a similar procedure later on."
   ]
  },
  {
   "cell_type": "code",
   "execution_count": 11,
   "metadata": {
    "ExecuteTime": {
     "end_time": "2022-05-04T18:26:15.962013Z",
     "start_time": "2022-05-04T18:26:15.632012Z"
    },
    "execution": {
     "iopub.execute_input": "2022-04-27T01:28:05.512862Z",
     "iopub.status.busy": "2022-04-27T01:28:05.512670Z",
     "iopub.status.idle": "2022-04-27T01:28:05.639695Z",
     "shell.execute_reply": "2022-04-27T01:28:05.639130Z"
    },
    "id": "0SQl8yXl3kNP"
   },
   "outputs": [],
   "source": [
    "AUTOTUNE = tf.data.AUTOTUNE\n",
    "\n",
    "files_ds = tf.data.Dataset.from_tensor_slices(train_files)\n",
    "\n",
    "waveform_ds = files_ds.map(\n",
    "    map_func=get_waveform_and_label,\n",
    "    num_parallel_calls=AUTOTUNE)"
   ]
  },
  {
   "cell_type": "markdown",
   "metadata": {
    "id": "voxGEwvuh2L7"
   },
   "source": [
    "Let's plot a few audio waveforms:"
   ]
  },
  {
   "cell_type": "code",
   "execution_count": 12,
   "metadata": {
    "ExecuteTime": {
     "end_time": "2022-05-04T18:26:16.344562Z",
     "start_time": "2022-05-04T18:26:15.963013Z"
    },
    "execution": {
     "iopub.execute_input": "2022-04-27T01:28:05.643085Z",
     "iopub.status.busy": "2022-04-27T01:28:05.642871Z",
     "iopub.status.idle": "2022-04-27T01:28:06.476328Z",
     "shell.execute_reply": "2022-04-27T01:28:06.475803Z"
    },
    "id": "8yuX6Nqzf6wT"
   },
   "outputs": [
    {
     "data": {
      "image/png": "[encoded data removed]",
      "text/plain": [
       "<Figure size 720x864 with 9 Axes>"
      ]
     },
     "metadata": {
      "needs_background": "light"
     },
     "output_type": "display_data"
    }
   ],
   "source": [
    "rows = 3\n",
    "cols = 3\n",
    "n = rows * cols\n",
    "fig, axes = plt.subplots(rows, cols, figsize=(10, 12))\n",
    "\n",
    "for i, (audio, label) in enumerate(waveform_ds.take(n)):\n",
    "  r = i // cols\n",
    "  c = i % cols\n",
    "  ax = axes[r][c]\n",
    "  ax.plot(audio.numpy())\n",
    "  ax.set_yticks(np.arange(-1.2, 1.2, 0.2))\n",
    "  label = label.numpy().decode('utf-8')\n",
    "  ax.set_title(label)\n",
    "\n",
    "plt.show()"
   ]
  },
  {
   "cell_type": "markdown",
   "metadata": {
    "id": "EWXPphxm0B4m"
   },
   "source": [
    "## Convert waveforms to spectrograms\n",
    "\n",
    "The waveforms in the dataset are represented in the time domain. Next, you'll transform the waveforms from the time-domain signals into the time-frequency-domain signals by computing the <a href=\"https://en.wikipedia.org/wiki/Short-time_Fourier_transform\" class=\"external\">short-time Fourier transform (STFT)</a> to convert the waveforms to as <a href=\"https://en.wikipedia.org/wiki/Spectrogram\" clas=\"external\">spectrograms</a>, which show frequency changes over time and can be represented as 2D images. You will feed the spectrogram images into your neural network to train the model.\n",
    "\n",
    "A Fourier transform (`tf.signal.fft`) converts a signal to its component frequencies, but loses all time information. In comparison, STFT (`tf.signal.stft`) splits the signal into windows of time and runs a Fourier transform on each window, preserving some time information, and returning a 2D tensor that you can run standard convolutions on.\n",
    "\n",
    "Create a utility function for converting waveforms to spectrograms:\n",
    "\n",
    "- The waveforms need to be of the same length, so that when you convert them to spectrograms, the results have similar dimensions. This can be done by simply zero-padding the audio clips that are shorter than one second (using `tf.zeros`).\n",
    "- When calling `tf.signal.stft`, choose the `frame_length` and `frame_step` parameters such that the generated spectrogram \"image\" is almost square. For more information on the STFT parameters choice, refer to <a href=\"https://www.coursera.org/lecture/audio-signal-processing/stft-2-tjEQe\" class=\"external\">this Coursera video</a> on audio signal processing and STFT.\n",
    "- The STFT produces an array of complex numbers representing magnitude and phase. However, in this tutorial you'll only use the magnitude, which you can derive by applying `tf.abs` on the output of `tf.signal.stft`."
   ]
  },
  {
   "cell_type": "code",
   "execution_count": 13,
   "metadata": {
    "ExecuteTime": {
     "end_time": "2022-05-04T18:26:16.376563Z",
     "start_time": "2022-05-04T18:26:16.345562Z"
    },
    "execution": {
     "iopub.execute_input": "2022-04-27T01:28:06.480402Z",
     "iopub.status.busy": "2022-04-27T01:28:06.479953Z",
     "iopub.status.idle": "2022-04-27T01:28:06.485110Z",
     "shell.execute_reply": "2022-04-27T01:28:06.484575Z"
    },
    "id": "_4CK75DHz_OR"
   },
   "outputs": [],
   "source": [
    "import tensorflow_io as tfio\n",
    "\n",
    "# 将一段频谱图转成梅尔频谱\n",
    "def get_melcepstrum(spectrogram):\n",
    "    # (124, 129, 1)\n",
    "    melspectrogram = tfio.audio.melscale(\n",
    "    spectrogram, rate=16000, mels=40, fmin=0, fmax=8000)\n",
    "    melspectrogram = melspectrogram[..., tf.newaxis]# 新增一个aixs\n",
    "    return melspectrogram\n",
    "\n",
    "def get_spectrogram(waveform):\n",
    "  # Zero-padding for an audio waveform with less than 16,000 samples.\n",
    "  input_len = 16000\n",
    "  waveform = waveform[:input_len]\n",
    "  zero_padding = tf.zeros(\n",
    "      [16000] - tf.shape(waveform),\n",
    "      dtype=tf.float32)\n",
    "  # Cast the waveform tensors' dtype to float32.\n",
    "  waveform = tf.cast(waveform, dtype=tf.float32)\n",
    "  # Concatenate the waveform with `zero_padding`, which ensures all audio\n",
    "  # clips are of the same length.\n",
    "  equal_length = tf.concat([waveform, zero_padding], 0)\n",
    "  # Convert the waveform to a spectrogram via a STFT.\n",
    "  spectrogram = tf.signal.stft(\n",
    "      equal_length, frame_length=1024, frame_step=512)\n",
    "  # Obtain the magnitude of the STFT.\n",
    "  spectrogram = tf.abs(spectrogram)\n",
    "  # Add a `channels` dimension, so that the spectrogram can be used\n",
    "  # as image-like input data with convolution layers (which expect\n",
    "  # shape (`batch_size`, `height`, `width`, `channels`).\n",
    "  # Batch Size，样本数（时间序列长度/frame_step=125），频率点数(样本窗口/2)，通道\n",
    "  spectrogram = spectrogram[..., tf.newaxis]\n",
    "  #melspectrogram = melspectrogram[..., tf.newaxis]\n",
    "  return spectrogram"
   ]
  },
  {
   "cell_type": "markdown",
   "metadata": {
    "id": "5rdPiPYJphs2"
   },
   "source": [
    "Next, start exploring the data. Print the shapes of one example's tensorized waveform and the corresponding spectrogram, and play the original audio:"
   ]
  },
  {
   "cell_type": "code",
   "execution_count": 14,
   "metadata": {
    "ExecuteTime": {
     "end_time": "2022-05-04T18:26:17.107154Z",
     "start_time": "2022-05-04T18:26:16.377562Z"
    },
    "execution": {
     "iopub.execute_input": "2022-04-27T01:28:06.488117Z",
     "iopub.status.busy": "2022-04-27T01:28:06.487678Z",
     "iopub.status.idle": "2022-04-27T01:28:06.779994Z",
     "shell.execute_reply": "2022-04-27T01:28:06.779430Z"
    },
    "id": "4Mu6Y7Yz3C-V"
   },
   "outputs": [
    {
     "name": "stdout",
     "output_type": "stream",
     "text": [
      "Label: stop\n",
      "Waveform shape: (16000,)\n",
      "Spectrogram shape: (30, 513, 1)\n",
      "melspectrogram shape: (30, 40, 1)\n",
      "Audio playback\n"
     ]
    },
    {
     "data": {
      "text/html": [
       "\n",
       "                <audio  controls=\"controls\" >\n",
       "                    <source src=\"data:audio/wav;base64,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\" type=\"audio/wav\" />\n",
       "                    Your browser does not support the audio element.\n",
       "                </audio>\n",
       "              "
      ],
      "text/plain": [
       "<IPython.lib.display.Audio object>"
      ]
     },
     "metadata": {},
     "output_type": "display_data"
    },
    {
     "data": {
      "image/png": "[encoded data removed]",
      "text/plain": [
       "<Figure size 432x288 with 1 Axes>"
      ]
     },
     "metadata": {
      "needs_background": "light"
     },
     "output_type": "display_data"
    },
    {
     "data": {
      "image/png": "[encoded data removed]",
      "text/plain": [
       "<Figure size 432x288 with 1 Axes>"
      ]
     },
     "metadata": {
      "needs_background": "light"
     },
     "output_type": "display_data"
    }
   ],
   "source": [
    "for waveform, label in waveform_ds.take(1):\n",
    "  label = label.numpy().decode('utf-8')\n",
    "  spectrogram = get_spectrogram(waveform)\n",
    "\n",
    "# 获取梅尔频谱,把之前加在频谱图最后的通道维度删除\n",
    "melspectrogram = get_melcepstrum(tf.squeeze(spectrogram, axis=-1))\n",
    "plt.figure()\n",
    "plt.imshow(tf.math.log(spectrogram).numpy())\n",
    "plt.figure()\n",
    "# 把之前加在梅尔频谱最后的通道维度删除\n",
    "plt.imshow(tf.math.log(tf.squeeze(melspectrogram, axis=-1)).numpy())\n",
    "\n",
    "print('Label:', label)\n",
    "print('Waveform shape:', waveform.shape)\n",
    "print('Spectrogram shape:', spectrogram.shape)\n",
    "print('melspectrogram shape:', melspectrogram.shape)\n",
    "print('Audio playback')\n",
    "display.display(display.Audio(waveform, rate=16000))"
   ]
  },
  {
   "cell_type": "markdown",
   "metadata": {
    "id": "xnSuqyxJ1isF"
   },
   "source": [
    "Now, define a function for displaying a spectrogram:"
   ]
  },
  {
   "cell_type": "code",
   "execution_count": 15,
   "metadata": {
    "ExecuteTime": {
     "end_time": "2022-05-04T18:26:17.123012Z",
     "start_time": "2022-05-04T18:26:17.107154Z"
    },
    "execution": {
     "iopub.execute_input": "2022-04-27T01:28:06.783666Z",
     "iopub.status.busy": "2022-04-27T01:28:06.782998Z",
     "iopub.status.idle": "2022-04-27T01:28:06.787930Z",
     "shell.execute_reply": "2022-04-27T01:28:06.787407Z"
    },
    "id": "e62jzb36-Jog"
   },
   "outputs": [],
   "source": [
    "def plot_spectrogram(spectrogram, ax):\n",
    "  if len(spectrogram.shape) > 2:\n",
    "    assert len(spectrogram.shape) == 3\n",
    "    spectrogram = np.squeeze(spectrogram, axis=-1)\n",
    "  # Convert the frequencies to log scale and transpose, so that the time is\n",
    "  # represented on the x-axis (columns).\n",
    "  # Add an epsilon to avoid taking a log of zero.\n",
    "  log_spec = np.log(spectrogram.T + np.finfo(float).eps) #倒一下\n",
    "  height = log_spec.shape[0] # 频率\n",
    "  width = log_spec.shape[1] # 时间\n",
    "  # 128，125\n",
    "  #print(np.size(spectrogram))\n",
    "  X = np.linspace(0, np.size(spectrogram), num=width, dtype=int)\n",
    "  Y = range(height)\n",
    "  ax.pcolormesh(X, Y, log_spec)\n"
   ]
  },
  {
   "cell_type": "markdown",
   "metadata": {
    "id": "baa5c91e8603"
   },
   "source": [
    "Plot the example's waveform over time and the corresponding spectrogram (frequencies over time):"
   ]
  },
  {
   "cell_type": "code",
   "execution_count": 16,
   "metadata": {
    "ExecuteTime": {
     "end_time": "2022-05-04T18:26:17.250011Z",
     "start_time": "2022-05-04T18:26:17.124012Z"
    },
    "execution": {
     "iopub.execute_input": "2022-04-27T01:28:06.790846Z",
     "iopub.status.busy": "2022-04-27T01:28:06.790429Z",
     "iopub.status.idle": "2022-04-27T01:28:07.016698Z",
     "shell.execute_reply": "2022-04-27T01:28:07.016088Z"
    },
    "id": "d2_CikgY1tjv"
   },
   "outputs": [
    {
     "data": {
      "image/png": "[encoded data removed]",
      "text/plain": [
       "<Figure size 864x576 with 3 Axes>"
      ]
     },
     "metadata": {
      "needs_background": "light"
     },
     "output_type": "display_data"
    }
   ],
   "source": [
    "fig, axes = plt.subplots(3, figsize=(12, 8))\n",
    "timescale = np.arange(waveform.shape[0])\n",
    "axes[0].plot(timescale, waveform.numpy())\n",
    "axes[0].set_title('Waveform')\n",
    "axes[0].set_xlim([0, 16000])\n",
    "\n",
    "#print(spectrogram.numpy().shape)\n",
    "#print(spectrogram.numpy().shape)\n",
    "plot_spectrogram(spectrogram.numpy(), axes[1])\n",
    "axes[1].set_title('spectrogram')\n",
    "plot_spectrogram(melspectrogram.numpy(), axes[2])\n",
    "axes[2].set_title('melspectrogram')\n",
    "plt.show()"
   ]
  },
  {
   "cell_type": "markdown",
   "metadata": {
    "id": "GyYXjW07jCHA"
   },
   "source": [
    "Now, define a function that transforms the waveform dataset into spectrograms and their corresponding labels as integer IDs:"
   ]
  },
  {
   "cell_type": "code",
   "execution_count": 17,
   "metadata": {
    "ExecuteTime": {
     "end_time": "2022-05-04T18:26:17.265011Z",
     "start_time": "2022-05-04T18:26:17.251011Z"
    },
    "execution": {
     "iopub.execute_input": "2022-04-27T01:28:07.020588Z",
     "iopub.status.busy": "2022-04-27T01:28:07.020383Z",
     "iopub.status.idle": "2022-04-27T01:28:07.023802Z",
     "shell.execute_reply": "2022-04-27T01:28:07.023257Z"
    },
    "id": "43IS2IouEV40"
   },
   "outputs": [],
   "source": [
    "def get_spectrogram_and_label_id(audio, label):\n",
    "  spectrogram = get_spectrogram(audio)\n",
    "  melspectrogram = get_melcepstrum(tf.squeeze(spectrogram, axis=-1))\n",
    "  label_id = tf.argmax(label == commands)\n",
    "  return melspectrogram, label_id"
   ]
  },
  {
   "cell_type": "markdown",
   "metadata": {
    "id": "cf5d5b033a45"
   },
   "source": [
    "Map `get_spectrogram_and_label_id` across the dataset's elements with `Dataset.map`:"
   ]
  },
  {
   "cell_type": "code",
   "execution_count": 18,
   "metadata": {
    "ExecuteTime": {
     "end_time": "2022-05-04T18:26:17.424010Z",
     "start_time": "2022-05-04T18:26:17.265011Z"
    },
    "execution": {
     "iopub.execute_input": "2022-04-27T01:28:07.026480Z",
     "iopub.status.busy": "2022-04-27T01:28:07.026293Z",
     "iopub.status.idle": "2022-04-27T01:28:07.177122Z",
     "shell.execute_reply": "2022-04-27T01:28:07.176472Z"
    },
    "id": "yEVb_oK0oBLQ"
   },
   "outputs": [],
   "source": [
    "spectrogram_ds = waveform_ds.map(\n",
    "  map_func=get_spectrogram_and_label_id,\n",
    "  num_parallel_calls=AUTOTUNE)"
   ]
  },
  {
   "cell_type": "markdown",
   "metadata": {
    "id": "6gQpAAgMnyDi"
   },
   "source": [
    "Examine the spectrograms for different examples of the dataset:"
   ]
  },
  {
   "cell_type": "code",
   "execution_count": 19,
   "metadata": {
    "ExecuteTime": {
     "end_time": "2022-05-04T18:26:17.630606Z",
     "start_time": "2022-05-04T18:26:17.424010Z"
    },
    "execution": {
     "iopub.execute_input": "2022-04-27T01:28:07.180705Z",
     "iopub.status.busy": "2022-04-27T01:28:07.180308Z",
     "iopub.status.idle": "2022-04-27T01:28:07.816082Z",
     "shell.execute_reply": "2022-04-27T01:28:07.815604Z"
    },
    "id": "QUbHfTuon4iF"
   },
   "outputs": [
    {
     "data": {
      "image/png": "[encoded data removed]",
      "text/plain": [
       "<Figure size 720x720 with 9 Axes>"
      ]
     },
     "metadata": {
      "needs_background": "light"
     },
     "output_type": "display_data"
    }
   ],
   "source": [
    "rows = 3\n",
    "cols = 3\n",
    "n = rows*cols\n",
    "fig, axes = plt.subplots(rows, cols, figsize=(10, 10))\n",
    "\n",
    "for i, (spectrogram, label_id) in enumerate(spectrogram_ds.take(n)):\n",
    "  r = i // cols\n",
    "  c = i % cols\n",
    "  ax = axes[r][c]\n",
    "  plot_spectrogram(spectrogram.numpy(), ax)\n",
    "  ax.set_title(commands[label_id.numpy()])\n",
    "  ax.axis('off')\n",
    "\n",
    "plt.show()"
   ]
  },
  {
   "cell_type": "markdown",
   "metadata": {
    "id": "z5KdY8IF8rkt"
   },
   "source": [
    "## Build and train the model\n",
    "\n",
    "Repeat the training set preprocessing on the validation and test sets:"
   ]
  },
  {
   "cell_type": "code",
   "execution_count": 20,
   "metadata": {
    "ExecuteTime": {
     "end_time": "2022-05-04T18:26:17.646084Z",
     "start_time": "2022-05-04T18:26:17.630606Z"
    },
    "execution": {
     "iopub.execute_input": "2022-04-27T01:28:07.824524Z",
     "iopub.status.busy": "2022-04-27T01:28:07.823984Z",
     "iopub.status.idle": "2022-04-27T01:28:07.828080Z",
     "shell.execute_reply": "2022-04-27T01:28:07.827560Z"
    },
    "id": "10UI32QH_45b"
   },
   "outputs": [],
   "source": [
    "def preprocess_dataset(files):\n",
    "  files_ds = tf.data.Dataset.from_tensor_slices(files)\n",
    "  output_ds = files_ds.map(\n",
    "      map_func=get_waveform_and_label,\n",
    "      num_parallel_calls=AUTOTUNE)\n",
    "  output_ds = output_ds.map(\n",
    "      map_func=get_spectrogram_and_label_id,\n",
    "      num_parallel_calls=AUTOTUNE)\n",
    "  return output_ds"
   ]
  },
  {
   "cell_type": "code",
   "execution_count": 21,
   "metadata": {
    "ExecuteTime": {
     "end_time": "2022-05-04T18:26:17.850131Z",
     "start_time": "2022-05-04T18:26:17.647046Z"
    },
    "execution": {
     "iopub.execute_input": "2022-04-27T01:28:07.831060Z",
     "iopub.status.busy": "2022-04-27T01:28:07.830504Z",
     "iopub.status.idle": "2022-04-27T01:28:08.040814Z",
     "shell.execute_reply": "2022-04-27T01:28:08.040269Z"
    },
    "id": "HNv4xwYkB2P6"
   },
   "outputs": [],
   "source": [
    "train_ds = spectrogram_ds\n",
    "val_ds = preprocess_dataset(val_files)\n",
    "test_ds = preprocess_dataset(test_files)"
   ]
  },
  {
   "cell_type": "markdown",
   "metadata": {
    "id": "assnWo6SB3lR"
   },
   "source": [
    "Batch the training and validation sets for model training:"
   ]
  },
  {
   "cell_type": "code",
   "execution_count": 22,
   "metadata": {
    "ExecuteTime": {
     "end_time": "2022-05-04T18:26:17.865643Z",
     "start_time": "2022-05-04T18:26:17.850637Z"
    },
    "execution": {
     "iopub.execute_input": "2022-04-27T01:28:08.044235Z",
     "iopub.status.busy": "2022-04-27T01:28:08.044048Z",
     "iopub.status.idle": "2022-04-27T01:28:08.048809Z",
     "shell.execute_reply": "2022-04-27T01:28:08.048252Z"
    },
    "id": "UgY9WYzn61EX"
   },
   "outputs": [],
   "source": [
    "batch_size = 64\n",
    "train_ds = train_ds.batch(batch_size)\n",
    "val_ds = val_ds.batch(batch_size)"
   ]
  },
  {
   "cell_type": "markdown",
   "metadata": {
    "id": "GS1uIh6F_TN9"
   },
   "source": [
    "Add `Dataset.cache` and `Dataset.prefetch` operations to reduce read latency while training the model:"
   ]
  },
  {
   "cell_type": "code",
   "execution_count": 23,
   "metadata": {
    "ExecuteTime": {
     "end_time": "2022-05-04T18:26:17.881011Z",
     "start_time": "2022-05-04T18:26:17.866643Z"
    },
    "execution": {
     "iopub.execute_input": "2022-04-27T01:28:08.051867Z",
     "iopub.status.busy": "2022-04-27T01:28:08.051351Z",
     "iopub.status.idle": "2022-04-27T01:28:08.055861Z",
     "shell.execute_reply": "2022-04-27T01:28:08.055427Z"
    },
    "id": "fdZ6M-F5_QzY"
   },
   "outputs": [],
   "source": [
    "train_ds = train_ds.cache().prefetch(AUTOTUNE)\n",
    "val_ds = val_ds.cache().prefetch(AUTOTUNE)"
   ]
  },
  {
   "cell_type": "markdown",
   "metadata": {
    "id": "rwHkKCQQb5oW"
   },
   "source": [
    "For the model, you'll use a simple convolutional neural network (CNN), since you have transformed the audio files into spectrogram images.\n",
    "\n",
    "Your `tf.keras.Sequential` model will use the following Keras preprocessing layers:\n",
    "\n",
    "- `tf.keras.layers.Resizing`: to downsample the input to enable the model to train faster.\n",
    "- `tf.keras.layers.Normalization`: to normalize each pixel in the image based on its mean and standard deviation.\n",
    "\n",
    "For the `Normalization` layer, its `adapt` method would first need to be called on the training data in order to compute aggregate statistics (that is, the mean and the standard deviation)."
   ]
  },
  {
   "cell_type": "code",
   "execution_count": 24,
   "metadata": {
    "ExecuteTime": {
     "end_time": "2022-05-04T18:26:17.993012Z",
     "start_time": "2022-05-04T18:26:17.881011Z"
    },
    "execution": {
     "iopub.execute_input": "2022-04-27T01:28:08.058562Z",
     "iopub.status.busy": "2022-04-27T01:28:08.058373Z",
     "iopub.status.idle": "2022-04-27T01:28:16.370854Z",
     "shell.execute_reply": "2022-04-27T01:28:16.370045Z"
    },
    "id": "ALYz7PFCHblP"
   },
   "outputs": [
    {
     "name": "stdout",
     "output_type": "stream",
     "text": [
      "Input shape: (30, 40, 1)\n",
      "Model: \"sequential\"\n",
      "_________________________________________________________________\n",
      " Layer (type)                Output Shape              Param #   \n",
      "=================================================================\n",
      " conv2d (Conv2D)             (None, 28, 33, 54)        1350      \n",
      "                                                                 \n",
      " max_pooling2d (MaxPooling2D  (None, 28, 31, 54)       0         \n",
      " )                                                               \n",
      "                                                                 \n",
      " dropout (Dropout)           (None, 28, 31, 54)        0         \n",
      "                                                                 \n",
      " flatten (Flatten)           (None, 46872)             0         \n",
      "                                                                 \n",
      " dense (Dense)               (None, 32)                1499936   \n",
      "                                                                 \n",
      " dense_1 (Dense)             (None, 32)                1056      \n",
      "                                                                 \n",
      " dense_2 (Dense)             (None, 8)                 264       \n",
      "                                                                 \n",
      "=================================================================\n",
      "Total params: 1,502,606\n",
      "Trainable params: 1,502,606\n",
      "Non-trainable params: 0\n",
      "_________________________________________________________________\n"
     ]
    }
   ],
   "source": [
    "for spectrogram, _ in spectrogram_ds.take(1):\n",
    "  input_shape = spectrogram.shape\n",
    "print('Input shape:', input_shape)\n",
    "num_labels = len(commands)\n",
    "\n",
    "# Instantiate the `tf.keras.layers.Normalization` layer.\n",
    "#norm_layer = layers.Normalization()(Raspi内部tf2.4不支持这个层)\n",
    "# Fit the state of the layer to the spectrograms\n",
    "# with `Normalization.adapt`.\n",
    "#norm_layer.adapt(data=spectrogram_ds.map(map_func=lambda spec, label: spec))\n",
    "\n",
    "model = models.Sequential([\n",
    "    layers.Input(shape=input_shape),\n",
    "    # Downsample the input.\n",
    "    #layers.Resizing(32, 32),\n",
    "    # Normalize.\n",
    "    #norm_layer,(Raspi内部tf2.4不支持这个层)\n",
    "    layers.Conv2D(54, (3,8),strides=(1,1),activation='relu'),\n",
    "    layers.MaxPooling2D(pool_size=(1,3),strides=(1,1)),\n",
    "    layers.Dropout(0.25),\n",
    "    #layers.Conv2D(64, 3, activation='relu'),\n",
    "    layers.Flatten(),\n",
    "    layers.Dense(32, activation='relu'),\n",
    "    #layers.Dropout(0.5),\n",
    "    layers.Dense(32, activation='relu'),\n",
    "    #layers.Dropout(0.1),\n",
    "    layers.Dense(num_labels),\n",
    "])\n",
    "\n",
    "model.summary()"
   ]
  },
  {
   "cell_type": "markdown",
   "metadata": {
    "id": "de52e5afa2f3"
   },
   "source": [
    "Configure the Keras model with the Adam optimizer and the cross-entropy loss:"
   ]
  },
  {
   "cell_type": "code",
   "execution_count": 25,
   "metadata": {
    "ExecuteTime": {
     "end_time": "2022-05-04T18:26:18.008010Z",
     "start_time": "2022-05-04T18:26:17.993012Z"
    },
    "execution": {
     "iopub.execute_input": "2022-04-27T01:28:16.382215Z",
     "iopub.status.busy": "2022-04-27T01:28:16.381982Z",
     "iopub.status.idle": "2022-04-27T01:28:16.392442Z",
     "shell.execute_reply": "2022-04-27T01:28:16.391892Z"
    },
    "id": "wFjj7-EmsTD-"
   },
   "outputs": [],
   "source": [
    "model.compile(\n",
    "    optimizer=tf.keras.optimizers.Adam(),\n",
    "    loss=tf.keras.losses.SparseCategoricalCrossentropy(from_logits=True),\n",
    "    metrics=['accuracy'],\n",
    ")"
   ]
  },
  {
   "cell_type": "markdown",
   "metadata": {
    "id": "f42b9e3a4705"
   },
   "source": [
    "Train the model over 10 epochs for demonstration purposes:"
   ]
  },
  {
   "cell_type": "code",
   "execution_count": 26,
   "metadata": {
    "ExecuteTime": {
     "end_time": "2022-05-04T18:26:23.748013Z",
     "start_time": "2022-05-04T18:26:18.009011Z"
    },
    "execution": {
     "iopub.execute_input": "2022-04-27T01:28:16.395490Z",
     "iopub.status.busy": "2022-04-27T01:28:16.395292Z",
     "iopub.status.idle": "2022-04-27T01:28:31.001194Z",
     "shell.execute_reply": "2022-04-27T01:28:31.000504Z"
    },
    "id": "ttioPJVMcGtq"
   },
   "outputs": [
    {
     "name": "stdout",
     "output_type": "stream",
     "text": [
      "Epoch 1/10\n",
      "100/100 [==============================] - 3s 13ms/step - loss: 2.1871 - accuracy: 0.3102 - val_loss: 1.5909 - val_accuracy: 0.4475\n",
      "Epoch 2/10\n",
      "100/100 [==============================] - 0s 3ms/step - loss: 1.3222 - accuracy: 0.5541 - val_loss: 1.1536 - val_accuracy: 0.6388\n",
      "Epoch 3/10\n",
      "100/100 [==============================] - 0s 3ms/step - loss: 0.9276 - accuracy: 0.6908 - val_loss: 0.9586 - val_accuracy: 0.7200\n",
      "Epoch 4/10\n",
      "100/100 [==============================] - 0s 3ms/step - loss: 0.6847 - accuracy: 0.7766 - val_loss: 0.8589 - val_accuracy: 0.7487\n",
      "Epoch 5/10\n",
      "100/100 [==============================] - 0s 3ms/step - loss: 0.5290 - accuracy: 0.8255 - val_loss: 0.7817 - val_accuracy: 0.7663\n",
      "Epoch 6/10\n",
      "100/100 [==============================] - 0s 3ms/step - loss: 0.4195 - accuracy: 0.8627 - val_loss: 0.6944 - val_accuracy: 0.7738\n",
      "Epoch 7/10\n",
      "100/100 [==============================] - 0s 3ms/step - loss: 0.3519 - accuracy: 0.8858 - val_loss: 0.7876 - val_accuracy: 0.7862\n",
      "Epoch 8/10\n",
      "100/100 [==============================] - 0s 3ms/step - loss: 0.2986 - accuracy: 0.9047 - val_loss: 0.8950 - val_accuracy: 0.7713\n",
      "Epoch 8: early stopping\n"
     ]
    }
   ],
   "source": [
    "EPOCHS = 10\n",
    "history = model.fit(\n",
    "    train_ds,\n",
    "    validation_data=val_ds,\n",
    "    epochs=EPOCHS,\n",
    "    callbacks=tf.keras.callbacks.EarlyStopping(verbose=1, patience=2),\n",
    ")"
   ]
  },
  {
   "cell_type": "markdown",
   "metadata": {
    "id": "gjpCDeQ4mUfS"
   },
   "source": [
    "Let's plot the training and validation loss curves to check how your model has improved during training:"
   ]
  },
  {
   "cell_type": "code",
   "execution_count": 1,
   "metadata": {
    "ExecuteTime": {
     "end_time": "2022-05-04T18:13:41.579895Z",
     "start_time": "2022-05-04T18:13:41.542896Z"
    },
    "execution": {
     "iopub.execute_input": "2022-04-27T01:28:31.005175Z",
     "iopub.status.busy": "2022-04-27T01:28:31.004605Z",
     "iopub.status.idle": "2022-04-27T01:28:31.125581Z",
     "shell.execute_reply": "2022-04-27T01:28:31.124819Z"
    },
    "id": "nzhipg3Gu2AY"
   },
   "outputs": [
    {
     "ename": "NameError",
     "evalue": "name 'history' is not defined",
     "output_type": "error",
     "traceback": [
      "\u001b[1;31m---------------------------------------------------------------------------\u001b[0m",
      "\u001b[1;31mNameError\u001b[0m                                 Traceback (most recent call last)",
      "\u001b[1;32m~\\AppData\\Local\\Temp\\ipykernel_15564\\1243166548.py\u001b[0m in \u001b[0;36m<module>\u001b[1;34m\u001b[0m\n\u001b[1;32m----> 1\u001b[1;33m \u001b[0mmetrics\u001b[0m \u001b[1;33m=\u001b[0m \u001b[0mhistory\u001b[0m\u001b[1;33m.\u001b[0m\u001b[0mhistory\u001b[0m\u001b[1;33m\u001b[0m\u001b[1;33m\u001b[0m\u001b[0m\n\u001b[0m\u001b[0;32m      2\u001b[0m \u001b[0mplt\u001b[0m\u001b[1;33m.\u001b[0m\u001b[0mplot\u001b[0m\u001b[1;33m(\u001b[0m\u001b[0mhistory\u001b[0m\u001b[1;33m.\u001b[0m\u001b[0mepoch\u001b[0m\u001b[1;33m,\u001b[0m \u001b[0mmetrics\u001b[0m\u001b[1;33m[\u001b[0m\u001b[1;34m'loss'\u001b[0m\u001b[1;33m]\u001b[0m\u001b[1;33m,\u001b[0m \u001b[0mmetrics\u001b[0m\u001b[1;33m[\u001b[0m\u001b[1;34m'val_loss'\u001b[0m\u001b[1;33m]\u001b[0m\u001b[1;33m)\u001b[0m\u001b[1;33m\u001b[0m\u001b[1;33m\u001b[0m\u001b[0m\n\u001b[0;32m      3\u001b[0m \u001b[0mplt\u001b[0m\u001b[1;33m.\u001b[0m\u001b[0mlegend\u001b[0m\u001b[1;33m(\u001b[0m\u001b[1;33m[\u001b[0m\u001b[1;34m'loss'\u001b[0m\u001b[1;33m,\u001b[0m \u001b[1;34m'val_loss'\u001b[0m\u001b[1;33m]\u001b[0m\u001b[1;33m)\u001b[0m\u001b[1;33m\u001b[0m\u001b[1;33m\u001b[0m\u001b[0m\n\u001b[0;32m      4\u001b[0m \u001b[0mplt\u001b[0m\u001b[1;33m.\u001b[0m\u001b[0mshow\u001b[0m\u001b[1;33m(\u001b[0m\u001b[1;33m)\u001b[0m\u001b[1;33m\u001b[0m\u001b[1;33m\u001b[0m\u001b[0m\n",
      "\u001b[1;31mNameError\u001b[0m: name 'history' is not defined"
     ]
    }
   ],
   "source": [
    "metrics = history.history\n",
    "plt.plot(history.epoch, metrics['loss'], metrics['val_loss'])\n",
    "plt.legend(['loss', 'val_loss'])\n",
    "plt.show()"
   ]
  },
  {
   "cell_type": "markdown",
   "metadata": {
    "id": "5ZTt3kO3mfm4"
   },
   "source": [
    "## Evaluate the model performance\n",
    "\n",
    "Run the model on the test set and check the model's performance:"
   ]
  },
  {
   "cell_type": "code",
   "execution_count": null,
   "metadata": {
    "execution": {
     "iopub.execute_input": "2022-04-27T01:28:31.129052Z",
     "iopub.status.busy": "2022-04-27T01:28:31.128533Z",
     "iopub.status.idle": "2022-04-27T01:28:31.495667Z",
     "shell.execute_reply": "2022-04-27T01:28:31.494970Z"
    },
    "id": "biU2MwzyAo8o"
   },
   "outputs": [],
   "source": [
    "test_audio = []\n",
    "test_labels = []\n",
    "\n",
    "for audio, label in test_ds:\n",
    "  test_audio.append(audio.numpy())\n",
    "  test_labels.append(label.numpy())\n",
    "\n",
    "test_audio = np.array(test_audio)\n",
    "test_labels = np.array(test_labels)"
   ]
  },
  {
   "cell_type": "code",
   "execution_count": null,
   "metadata": {
    "execution": {
     "iopub.execute_input": "2022-04-27T01:28:31.499711Z",
     "iopub.status.busy": "2022-04-27T01:28:31.499184Z",
     "iopub.status.idle": "2022-04-27T01:28:31.760456Z",
     "shell.execute_reply": "2022-04-27T01:28:31.759703Z"
    },
    "id": "ktUanr9mRZky"
   },
   "outputs": [],
   "source": [
    "y_pred = np.argmax(model.predict(test_audio), axis=1)\n",
    "y_true = test_labels\n",
    "\n",
    "test_acc = sum(y_pred == y_true) / len(y_true)\n",
    "print(f'Test set accuracy: {test_acc:.0%}')"
   ]
  },
  {
   "cell_type": "markdown",
   "metadata": {
    "id": "en9Znt1NOabH"
   },
   "source": [
    "### Display a confusion matrix\n",
    "\n",
    "Use a <a href=\"https://developers.google.com/machine-learning/glossary#confusion-matrix\" class=\"external\">confusion matrix</a> to check how well the model did classifying each of the commands in the test set:\n"
   ]
  },
  {
   "cell_type": "code",
   "execution_count": null,
   "metadata": {
    "execution": {
     "iopub.execute_input": "2022-04-27T01:28:31.763628Z",
     "iopub.status.busy": "2022-04-27T01:28:31.763203Z",
     "iopub.status.idle": "2022-04-27T01:28:32.099650Z",
     "shell.execute_reply": "2022-04-27T01:28:32.098887Z"
    },
    "id": "LvoSAOiXU3lL"
   },
   "outputs": [],
   "source": [
    "confusion_mtx = tf.math.confusion_matrix(y_true, y_pred)\n",
    "plt.figure(figsize=(10, 8))\n",
    "sns.heatmap(confusion_mtx,\n",
    "            xticklabels=commands,\n",
    "            yticklabels=commands,\n",
    "            annot=True, fmt='g')\n",
    "plt.xlabel('Prediction')\n",
    "plt.ylabel('Label')\n",
    "plt.show()"
   ]
  },
  {
   "cell_type": "markdown",
   "metadata": {
    "id": "mQGi_mzPcLvl"
   },
   "source": [
    "## Run inference on an audio file\n",
    "\n",
    "Finally, verify the model's prediction output using an input audio file of someone saying \"no\". How well does your model perform?"
   ]
  },
  {
   "cell_type": "code",
   "execution_count": null,
   "metadata": {
    "execution": {
     "iopub.execute_input": "2022-04-27T01:28:32.103054Z",
     "iopub.status.busy": "2022-04-27T01:28:32.102560Z",
     "iopub.status.idle": "2022-04-27T01:28:32.401989Z",
     "shell.execute_reply": "2022-04-27T01:28:32.401327Z"
    },
    "id": "zRxauKMdhofU"
   },
   "outputs": [],
   "source": [
    "sample_file = data_dir/'no/01bb6a2a_nohash_0.wav'\n",
    "\n",
    "sample_ds = preprocess_dataset([str(sample_file)])\n",
    "\n",
    "for spectrogram, label in sample_ds.batch(1):\n",
    "  prediction = model(spectrogram)\n",
    "  plt.bar(commands, tf.nn.softmax(prediction[0]))\n",
    "  plt.title(f'Predictions for \"{commands[label[0]]}\"')\n",
    "  plt.show()"
   ]
  },
  {
   "cell_type": "markdown",
   "metadata": {
    "id": "VgWICqdqQNaQ"
   },
   "source": [
    "As the output suggests, your model should have recognized the audio command as \"no\"."
   ]
  },
  {
   "cell_type": "markdown",
   "metadata": {},
   "source": [
    "## 保存模型"
   ]
  },
  {
   "cell_type": "code",
   "execution_count": null,
   "metadata": {},
   "outputs": [],
   "source": [
    "model.save(\"KWS on Raspi.h5\")"
   ]
  },
  {
   "cell_type": "markdown",
   "metadata": {
    "id": "J3jF933m9z1J"
   },
   "source": [
    "## Next steps\n",
    "\n",
    "This tutorial demonstrated how to carry out simple audio classification/automatic speech recognition using a convolutional neural network with TensorFlow and Python. To learn more, consider the following resources:\n",
    "\n",
    "- The [Sound classification with YAMNet](https://www.tensorflow.org/hub/tutorials/yamnet) tutorial shows how to use transfer learning for audio classification.\n",
    "- The notebooks from <a href=\"https://www.kaggle.com/c/tensorflow-speech-recognition-challenge/overview\" class=\"external\">Kaggle's TensorFlow speech recognition challenge</a>.\n",
    "- The \n",
    "<a href=\"https://codelabs.developers.google.com/codelabs/tensorflowjs-audio-codelab/index.html#0\" class=\"external\">TensorFlow.js - Audio recognition using transfer learning codelab</a> teaches how to build your own interactive web app for audio classification.\n",
    "- <a href=\"https://arxiv.org/abs/1709.04396\" class=\"external\">A tutorial on deep learning for music information retrieval</a> (Choi et al., 2017) on arXiv.\n",
    "- TensorFlow also has additional support for [audio data preparation and augmentation](https://www.tensorflow.org/io/tutorials/audio) to help with your own audio-based projects.\n",
    "- Consider using the <a href=\"https://librosa.org/\" class=\"external\">librosa</a> library—a Python package for music and audio analysis."
   ]
  }
 ],
 "metadata": {
  "accelerator": "GPU",
  "colab": {
   "collapsed_sections": [],
   "name": "simple_audio.ipynb",
   "toc_visible": true
  },
  "kernelspec": {
   "display_name": "Python 3 (ipykernel)",
   "language": "python",
   "name": "python3"
  },
  "language_info": {
   "codemirror_mode": {
    "name": "ipython",
    "version": 3
   },
   "file_extension": ".py",
   "mimetype": "text/x-python",
   "name": "python",
   "nbconvert_exporter": "python",
   "pygments_lexer": "ipython3",
   "version": "3.7.4"
  }
 },
 "nbformat": 4,
 "nbformat_minor": 1
}
